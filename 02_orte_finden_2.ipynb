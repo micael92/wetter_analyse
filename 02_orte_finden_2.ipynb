{
 "cells": [
  {
   "cell_type": "markdown",
   "metadata": {},
   "source": [
    "### Zehn Orte anhand Heuristiken aussuchen\n",
    "\n",
    "- Von 01_orte_finden erzeugte Stationsliste laden\n",
    "- Ortslisten anhand der Heuristiken definieren\n",
    "- Schnittmenge von Stationslisten und Ortslisten bilden"
   ]
  },
  {
   "cell_type": "code",
   "execution_count": 1,
   "metadata": {},
   "outputs": [
    {
     "name": "stdout",
     "output_type": "stream",
     "text": [
      "Orte mit Wetterstationen am Meer:  9 {'Bremerhaven', 'Helgoland', 'Emden', 'Norderney', 'Travemünde', 'Rostock-Warnemünde', 'Borkum-Süderstraße', 'Cuxhaven', 'Flensburg(Schäferhaus)'}\n",
      "Orte mit Wetterstationen an Seen:  8 {'Konstanz', 'Friedrichshafen-Unterraderach', 'Müllheim', 'Lindau(SWN)', 'Chieming', 'München-Flughafen', 'Potsdam', 'Schwerin'}\n",
      "Orte mit Wetterstationen in den Bergen:  8 {'Hohenpeißenberg', 'Garmisch-Partenkirchen', 'Oberstdorf', 'Brocken', 'Fichtelberg', 'Feldberg/Schwarzwald', 'Zugspitze', 'Wasserkuppe'}\n"
     ]
    }
   ],
   "source": [
    "# Load the list of places \n",
    "file_path = 'datasets/stations.txt'\n",
    "with open(file_path, 'r', encoding='utf-8') as file:\n",
    "    places = file.read().splitlines()\n",
    "\n",
    "# Places known for their proximity to the sea, mountains, and lakes in Germany\n",
    "near_sea = [\"Cuxhaven\", \"Borkum-Süderstraße\", \"Norderney\", \"Helgoland\", \"Warnemünde\", \"Bremerhaven\", \"Flensburg(Schäferhaus)\", \"Travemünde\", \"Rostock-Warnemünde\", \"Westerland(Sylt)\", \"Emden\"]\n",
    "near_mountains = [\"Zugspitze\", \"Feldberg/Schwarzwald\", \"Brocken\", \"Oberstdorf\", \"Garmisch-Partenkirchen\", \"Wasserkuppe\", \"Fichtelberg\", \"Hohenpeißenberg\", \"Altenberg\", \"Schwarzwald\", \"Bayerischer Wald\"]\n",
    "near_lakes = [\"Konstanz\", \"Müllheim\", \"Lindau(SWN)\", \"Schwerin\", \"Potsdam\", \"München-Flughafen\", \"Friedrichshafen-Unterraderach\", \"Chieming\", \"Starnberg\", \"Tegernsee\", \"Schönau am Königssee\"]\n",
    "\n",
    "# Filtering the places based on the heuristics\n",
    "near_sea_and_places = set(near_sea) & set(places)\n",
    "near_lakes_and_places = set(near_lakes) & set(places)\n",
    "near_mountains_and_places = set(near_mountains) & set(places)\n",
    "\n",
    "print(\"Orte mit Wetterstationen am Meer: \", len(near_sea_and_places), near_sea_and_places)\n",
    "print(\"Orte mit Wetterstationen an Seen: \", len(near_lakes_and_places), near_lakes_and_places)\n",
    "print(\"Orte mit Wetterstationen in den Bergen: \", len(near_mountains_and_places), near_mountains_and_places)"
   ]
  }
 ],
 "metadata": {
  "kernelspec": {
   "display_name": "Python 3",
   "language": "python",
   "name": "python3"
  },
  "language_info": {
   "codemirror_mode": {
    "name": "ipython",
    "version": 3
   },
   "file_extension": ".py",
   "mimetype": "text/x-python",
   "name": "python",
   "nbconvert_exporter": "python",
   "pygments_lexer": "ipython3",
   "version": "3.10.12"
  }
 },
 "nbformat": 4,
 "nbformat_minor": 2
}
