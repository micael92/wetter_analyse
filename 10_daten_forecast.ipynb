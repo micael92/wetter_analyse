{
 "cells": [
  {
   "cell_type": "code",
   "execution_count": 2,
   "metadata": {
    "vscode": {
     "languageId": "r"
    }
   },
   "outputs": [],
   "source": [
    "# Daten einlesen\n",
    "\n",
    "wetterdaten <- readRDS(\"datasets/rds/wetterdaten.rds\")"
   ]
  },
  {
   "cell_type": "code",
   "execution_count": 3,
   "metadata": {
    "vscode": {
     "languageId": "r"
    }
   },
   "outputs": [
    {
     "name": "stderr",
     "output_type": "stream",
     "text": [
      "Installiere Paket nach ‘/home/michael/R/x86_64-pc-linux-gnu-library/4.1’\n",
      "(da ‘lib’ nicht spezifiziert)\n",
      "\n"
     ]
    },
    {
     "name": "stderr",
     "output_type": "stream",
     "text": [
      "Registered S3 method overwritten by 'quantmod':\n",
      "  method            from\n",
      "  as.zoo.data.frame zoo \n",
      "\n"
     ]
    }
   ],
   "source": [
    "# Installieren und Laden benötigter Pakete\n",
    "install.packages(\"forecast\", dependencies = TRUE)\n",
    "library(forecast)"
   ]
  },
  {
   "cell_type": "code",
   "execution_count": 4,
   "metadata": {
    "vscode": {
     "languageId": "r"
    }
   },
   "outputs": [
    {
     "ename": "ERROR",
     "evalue": "Error in ts(temperaturen$Max_Temp, frequency = 365): 'ts' object must have one or more observations\n",
     "output_type": "error",
     "traceback": [
      "Error in ts(temperaturen$Max_Temp, frequency = 365): 'ts' object must have one or more observations\nTraceback:\n",
      "1. ts(temperaturen$Max_Temp, frequency = 365)",
      "2. stop(\"'ts' object must have one or more observations\")"
     ]
    }
   ],
   "source": [
    "# Angenommen, du hast eine Zeitreihe der Tageshöchsttemperaturen\n",
    "# Lade deine Daten\n",
    "temperaturen <- subset(wetterdaten[[1]], MESS_DATUM >= as.Date(\"2014-01-01\") & MESS_DATUM <= as.Date(\"2023-12-31\"))\n",
    "\n",
    "# Zeitreihe erstellen (Annahme: Tägliche Daten für 10 Jahre)\n",
    "ts_data <- ts(temperaturen$Max_Temp, frequency = 365)\n",
    "\n",
    "# Saisonale Dekomposition\n",
    "decomposed <- stl(ts_data, s.window = \"periodic\")\n",
    "\n",
    "# Bereinigte Daten für Regression verwenden\n",
    "fit <- lm(decomposed$time.series[, \"seasonal\"] ~ decomposed$time.series[, \"trend\"])\n",
    "\n",
    "# Zusammenfassung des Modells anzeigen\n",
    "summary(fit)\n",
    "\n",
    "# Vorhersage für die nächsten drei Jahre\n",
    "# Erzeuge zukünftige Trends\n",
    "future_trend <- seq(max(decomposed$time.series[, \"trend\"]), by = 1, length.out = 3 * 365)\n",
    "df <- data.frame(trend = future_trend)\n",
    "predicted_temp <- predict(fit, newdata = df)\n",
    "\n",
    "# Vorhersagen anzeigen oder plotten\n",
    "plot(predicted_temp)\n"
   ]
  }
 ],
 "metadata": {
  "kernelspec": {
   "display_name": "R",
   "language": "R",
   "name": "ir"
  },
  "language_info": {
   "codemirror_mode": "r",
   "file_extension": ".r",
   "mimetype": "text/x-r-source",
   "name": "R",
   "pygments_lexer": "r",
   "version": "4.1.2"
  }
 },
 "nbformat": 4,
 "nbformat_minor": 2
}
