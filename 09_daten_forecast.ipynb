{
 "cells": [
  {
   "cell_type": "markdown",
   "metadata": {},
   "source": [
    "### ARIMA Modell"
   ]
  },
  {
   "cell_type": "code",
   "execution_count": 2,
   "metadata": {
    "vscode": {
     "languageId": "r"
    }
   },
   "outputs": [
    {
     "data": {
      "text/html": [
       "<table class=\"dataframe\">\n",
       "<caption>A data.frame: 6 × 5</caption>\n",
       "<thead>\n",
       "\t<tr><th></th><th scope=col>STATIONS_ID</th><th scope=col>MESS_DATUM</th><th scope=col>RSK</th><th scope=col>SDK</th><th scope=col>TMK</th></tr>\n",
       "\t<tr><th></th><th scope=col>&lt;int&gt;</th><th scope=col>&lt;date&gt;</th><th scope=col>&lt;dbl&gt;</th><th scope=col>&lt;dbl&gt;</th><th scope=col>&lt;dbl&gt;</th></tr>\n",
       "</thead>\n",
       "<tbody>\n",
       "\t<tr><th scope=row>46346</th><td>3631</td><td>2014-01-01</td><td>0.2</td><td>3.6</td><td>5.8</td></tr>\n",
       "\t<tr><th scope=row>46347</th><td>3631</td><td>2014-01-02</td><td>0.5</td><td>0.5</td><td>7.9</td></tr>\n",
       "\t<tr><th scope=row>46348</th><td>3631</td><td>2014-01-03</td><td>2.4</td><td>0.0</td><td>7.2</td></tr>\n",
       "\t<tr><th scope=row>46349</th><td>3631</td><td>2014-01-04</td><td>1.3</td><td>3.0</td><td>6.8</td></tr>\n",
       "\t<tr><th scope=row>46350</th><td>3631</td><td>2014-01-05</td><td>0.4</td><td>5.0</td><td>5.7</td></tr>\n",
       "\t<tr><th scope=row>46351</th><td>3631</td><td>2014-01-06</td><td>5.0</td><td>0.4</td><td>8.1</td></tr>\n",
       "</tbody>\n",
       "</table>\n"
      ],
      "text/latex": [
       "A data.frame: 6 × 5\n",
       "\\begin{tabular}{r|lllll}\n",
       "  & STATIONS\\_ID & MESS\\_DATUM & RSK & SDK & TMK\\\\\n",
       "  & <int> & <date> & <dbl> & <dbl> & <dbl>\\\\\n",
       "\\hline\n",
       "\t46346 & 3631 & 2014-01-01 & 0.2 & 3.6 & 5.8\\\\\n",
       "\t46347 & 3631 & 2014-01-02 & 0.5 & 0.5 & 7.9\\\\\n",
       "\t46348 & 3631 & 2014-01-03 & 2.4 & 0.0 & 7.2\\\\\n",
       "\t46349 & 3631 & 2014-01-04 & 1.3 & 3.0 & 6.8\\\\\n",
       "\t46350 & 3631 & 2014-01-05 & 0.4 & 5.0 & 5.7\\\\\n",
       "\t46351 & 3631 & 2014-01-06 & 5.0 & 0.4 & 8.1\\\\\n",
       "\\end{tabular}\n"
      ],
      "text/markdown": [
       "\n",
       "A data.frame: 6 × 5\n",
       "\n",
       "| <!--/--> | STATIONS_ID &lt;int&gt; | MESS_DATUM &lt;date&gt; | RSK &lt;dbl&gt; | SDK &lt;dbl&gt; | TMK &lt;dbl&gt; |\n",
       "|---|---|---|---|---|---|\n",
       "| 46346 | 3631 | 2014-01-01 | 0.2 | 3.6 | 5.8 |\n",
       "| 46347 | 3631 | 2014-01-02 | 0.5 | 0.5 | 7.9 |\n",
       "| 46348 | 3631 | 2014-01-03 | 2.4 | 0.0 | 7.2 |\n",
       "| 46349 | 3631 | 2014-01-04 | 1.3 | 3.0 | 6.8 |\n",
       "| 46350 | 3631 | 2014-01-05 | 0.4 | 5.0 | 5.7 |\n",
       "| 46351 | 3631 | 2014-01-06 | 5.0 | 0.4 | 8.1 |\n",
       "\n"
      ],
      "text/plain": [
       "      STATIONS_ID MESS_DATUM RSK SDK TMK\n",
       "46346 3631        2014-01-01 0.2 3.6 5.8\n",
       "46347 3631        2014-01-02 0.5 0.5 7.9\n",
       "46348 3631        2014-01-03 2.4 0.0 7.2\n",
       "46349 3631        2014-01-04 1.3 3.0 6.8\n",
       "46350 3631        2014-01-05 0.4 5.0 5.7\n",
       "46351 3631        2014-01-06 5.0 0.4 8.1"
      ]
     },
     "metadata": {},
     "output_type": "display_data"
    }
   ],
   "source": [
    "# Daten einlesen\n",
    "wetterdaten <- readRDS(\"datasets/rds/wetterdaten.rds\")\n",
    "\n",
    "# Ort für die Analyse festlegen\n",
    "norderney <- wetterdaten[[6]]\n",
    "head(norderney)"
   ]
  },
  {
   "cell_type": "code",
   "execution_count": 3,
   "metadata": {
    "vscode": {
     "languageId": "r"
    }
   },
   "outputs": [],
   "source": [
    "# Jahr und Monat mit format extrahieren\n",
    "start_year <- as.numeric(format(min(norderney$MESS_DATUM), \"%Y\"))\n",
    "start_month <- as.numeric(format(min(norderney$MESS_DATUM), \"%m\"))\n",
    "\n",
    "# Zeitreihenobjekt aus TMK erstellen\n",
    "TMK_ts <- ts(norderney$TMK, start=c(start_year, start_month), frequency=365)"
   ]
  },
  {
   "cell_type": "code",
   "execution_count": 4,
   "metadata": {
    "vscode": {
     "languageId": "r"
    }
   },
   "outputs": [],
   "source": [
    "# Ein passendes Modell mit auto.arima() finden\n",
    "if (!require(forecast, quietly = TRUE)) {\n",
    "  install.packages(\"forecast\")\n",
    "}\n",
    "modell_tmk <- auto.arima(TMK_ts, seasonal=TRUE, stepwise=TRUE, approximation=TRUE)\n",
    "summary(modell_tmk)\n"
   ]
  },
  {
   "cell_type": "code",
   "execution_count": null,
   "metadata": {
    "vscode": {
     "languageId": "r"
    }
   },
   "outputs": [],
   "source": [
    "# Erstellen der Vorhersage für die nächsten 3 Jahre (1095 Tage)\n",
    "future_forecast <- forecast(modell_tmk, h=1095)"
   ]
  },
  {
   "cell_type": "code",
   "execution_count": null,
   "metadata": {
    "vscode": {
     "languageId": "r"
    }
   },
   "outputs": [
    {
     "data": {
      "text/html": [
       "<strong>png:</strong> 2"
      ],
      "text/latex": [
       "\\textbf{png:} 2"
      ],
      "text/markdown": [
       "**png:** 2"
      ],
      "text/plain": [
       "png \n",
       "  2 "
      ]
     },
     "metadata": {},
     "output_type": "display_data"
    }
   ],
   "source": [
    "# Ergebnisse der Vorhersage darstellen\n",
    "png_name <- \"plots/forecast/norderney_TMK.png\"\n",
    "png(png_name, width=800, height=400)\n",
    "plot(future_forecast,\n",
    "  type = \"l\",\n",
    "  xlab = \"Jahr\",\n",
    "  ylab = \"TMK\",\n",
    "  main = \"\")\n",
    "dev.off()"
   ]
  }
 ],
 "metadata": {
  "kernelspec": {
   "display_name": "R",
   "language": "R",
   "name": "ir"
  },
  "language_info": {
   "codemirror_mode": "r",
   "file_extension": ".r",
   "mimetype": "text/x-r-source",
   "name": "R",
   "pygments_lexer": "r",
   "version": "4.1.2"
  }
 },
 "nbformat": 4,
 "nbformat_minor": 2
}
