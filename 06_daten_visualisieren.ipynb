{
 "cells": [
  {
   "cell_type": "markdown",
   "metadata": {},
   "source": [
    "### Wetterdaten für die gewählten Stationen einlesen und verarbeiten\n",
    "\n",
    "- Pfade für die einzelnen Wetterdateien aus der von 04_daten_herunterladen erzeugten Datei datei_liste.txt einlesen\n",
    "- Die 10 Dateien mit Wetterdaten einlesen\n",
    "- Nicht relevante Spalten entfernen\n",
    "- Datentyp für Spalten anpassen\n",
    "- Daten auf den Zeitraum von 2014-2024 reduzieren\n",
    "- Fehlerhafte Daten entfernen\n",
    "- Daten der letzten 3 Jahre darstellen"
   ]
  },
  {
   "cell_type": "code",
   "execution_count": 7,
   "metadata": {
    "vscode": {
     "languageId": "r"
    }
   },
   "outputs": [],
   "source": [
    "# Datei datei_liste.txt einlesen\n",
    "datei_liste <- readLines(\"datasets/orte/datei_liste.txt\")\n",
    "\n",
    "# Liste, um die Inhalte der Dateien zu speichern\n",
    "wetterdaten <- list()\n",
    "\n",
    "# Jede Datei aus der Liste einlesen\n",
    "for (i in seq_along(datei_liste)) {\n",
    "  # Der Pfad zur Datei\n",
    "  dateipfad <- datei_liste[i]\n",
    "  \n",
    "  # Datei einlesen\n",
    "  wetterdaten[[i]] <- read.table(dateipfad, \n",
    "    header = TRUE, \n",
    "    sep = \";\", \n",
    "    fill = TRUE, \n",
    "    fileEncoding = \"UTF-8\")\n",
    "  \n",
    "  # Benenne das dataframe in der Liste nach der Stations ID\n",
    "  name <- paste(\"station\", wetterdaten[[i]]$STATIONS_ID[1], sep = \"_\")\n",
    "  names(wetterdaten)[i] <- name\n",
    "  # Nur relevante Spalten behalten\n",
    "  wetterdaten[[i]] <- wetterdaten[[i]][, c(\"STATIONS_ID\", \"MESS_DATUM\", \"RSK\", \"SDK\", \"TMK\")]\n",
    "\n",
    "  # Datentypen anpassen\n",
    "  wetterdaten[[i]]$MESS_DATUM <- as.Date(as.character(wetterdaten[[i]]$MESS_DATUM), format = \"%Y%m%d\")\n",
    "\n",
    "  # Nur die letzten 10 Jahre behalten\n",
    "  wetterdaten[[i]] <- tail(wetterdaten[[i]], 3652)\n",
    "\n",
    "}\n",
    "\n",
    "# Start- und Enddatum für den 3 Jahrezeitraum festlegen\n",
    "start_datum <- as.Date(\"2021-01-01\")\n",
    "end_datum <- as.Date(\"2023-12-31\")"
   ]
  },
  {
   "cell_type": "code",
   "execution_count": 8,
   "metadata": {
    "vscode": {
     "languageId": "r"
    }
   },
   "outputs": [],
   "source": [
    "# Entfernen von fehlerhaften Daten\n",
    "\n",
    "for (i in seq_along(wetterdaten)) {\n",
    "  wetterdaten[[i]] <- subset(wetterdaten[[i]], RSK <= 400.0 & RSK >= 0.0)\n",
    "  wetterdaten[[i]] <- subset(wetterdaten[[i]], SDK <= 24 & SDK >= 0)\n",
    "  wetterdaten[[i]] <- subset(wetterdaten[[i]], TMK <= 60 & TMK >= -60)\n",
    "}"
   ]
  },
  {
   "cell_type": "code",
   "execution_count": 35,
   "metadata": {
    "vscode": {
     "languageId": "r"
    }
   },
   "outputs": [],
   "source": [
    "# Die bereinigten Datensätze für die weitere Verwendung speichern\n",
    "\n",
    "saveRDS(wetterdaten, \"datasets/rds/wetterdaten.rds\")"
   ]
  },
  {
   "cell_type": "code",
   "execution_count": 9,
   "metadata": {
    "vscode": {
     "languageId": "r"
    }
   },
   "outputs": [],
   "source": [
    "# Verschiedene Informationen zu den Dateien anzeigen\n",
    "# durch entfernen der Kommentarzeichen können die einzelnen Informationen ausgegeben werden\n",
    "\n",
    "for (i in seq_along(wetterdaten)) {\n",
    "  #print(names(wetterdaten)[i])\n",
    "  #print(paste(\"Anzahl der Zeilen\", names(wetterdaten[i]), \": \", nrow(wetterdaten[[i]])))\n",
    "  #print(summary(wetterdaten[[i]]))\n",
    "  #print(head(wetterdaten[[1]]))\n",
    "  #print(nrow(wetterdaten[[1]]))\n",
    "  #boxplot(wetterdaten[[i]]$TMK, main = names(wetterdaten)[i])\n",
    "  #print(subset(wetterdaten[[i]], RSK > 400.0 | RSK < 0.0))\n",
    "  #print(subset(wetterdaten[[i]], SDK > 24 | SDK < 0))\n",
    "  #print(subset(wetterdaten[[i]], TMK > 60 | TMK < -60))\n",
    "  #plot(wetterdaten[[i]]$MESS_DATUM, wetterdaten[[i]]$TMK, type = \"l\", col = \"blue\", xlab = \"Datum\", ylab = \"Temperatur\", main = names(wetterdaten)[i])\n",
    "  #boxplot(wetterdaten[[i]]$TMK, main = names(wetterdaten)[i])\n",
    "  #break\n",
    "}"
   ]
  },
  {
   "cell_type": "code",
   "execution_count": 10,
   "metadata": {
    "vscode": {
     "languageId": "r"
    }
   },
   "outputs": [],
   "source": [
    "# Erste Auswertung der letzten 3 Jahre erzeugen und in Datei speichern - numerische Darstellung\n",
    "\n",
    "for (i in seq_along(wetterdaten)) {\n",
    "  daten_letzten_3_jahre <- subset(wetterdaten[[i]], MESS_DATUM >= start_datum & MESS_DATUM <= end_datum)\n",
    "  sink(paste(\"outputs/\", names(wetterdaten[i]), \".txt\"))\n",
    "  print(summary(daten_letzten_3_jahre))\n",
    "  sink()\n",
    "}"
   ]
  },
  {
   "cell_type": "code",
   "execution_count": 11,
   "metadata": {
    "vscode": {
     "languageId": "r"
    }
   },
   "outputs": [],
   "source": [
    "# Graphen für alle Orte der letzten 3 Jahre erstellen\n",
    "\n",
    "for (i in seq_along(wetterdaten)) {\n",
    "  daten_letzten_3_jahre <- subset(wetterdaten[[i]], MESS_DATUM >= start_datum & MESS_DATUM <= end_datum)\n",
    "  \n",
    "  #RSK\n",
    "  png_name <- paste(\"plots/3years/\", names(wetterdaten)[i], \"_RSK.png\", sep = \"\")\n",
    "  png(png_name, width=800, height=400)\n",
    "  plot(daten_letzten_3_jahre$MESS_DATUM, daten_letzten_3_jahre$RSK,\n",
    "  type = \"l\",\n",
    "  col = \"blue\",\n",
    "  xlab = \"Jahr\",\n",
    "  ylab = \"RSK - tägliche Niederschlagshöhe in mm\",\n",
    "  main = names(wetterdaten)[i])\n",
    "  dev.off()\n",
    "  \n",
    "  #SDK\n",
    "  png_name <- paste(\"plots/3years/\", names(wetterdaten)[i], \"_SDK.png\", sep = \"\")\n",
    "  png(png_name, width=800, height=400)\n",
    "  plot(daten_letzten_3_jahre$MESS_DATUM, daten_letzten_3_jahre$SDK,\n",
    "  type = \"p\",\n",
    "  col = \"orange\",\n",
    "  xlab = \"Jahr\",\n",
    "  ylab = \"SDK - tägliche Sonnenscheindauer in h \",\n",
    "  main = names(wetterdaten)[i])\n",
    "  dev.off()\n",
    "  \n",
    "  #TMK\n",
    "  png_name <- paste(\"plots/3years/\", names(wetterdaten)[i], \"_TMK.png\", sep = \"\")\n",
    "  png(png_name, width=800, height=400)\n",
    "  plot(daten_letzten_3_jahre$MESS_DATUM, daten_letzten_3_jahre$TMK,\n",
    "  type = \"l\",\n",
    "  col = \"green\",\n",
    "  xlab = \"Jahr\",\n",
    "  ylab = \"TMK - Tagesmittel Lufttemperatur in °C in 2 m Höhe\",\n",
    "  main = names(wetterdaten)[i])\n",
    "  dev.off()\n",
    "  \n",
    "}"
   ]
  },
  {
   "cell_type": "code",
   "execution_count": 12,
   "metadata": {
    "vscode": {
     "languageId": "r"
    }
   },
   "outputs": [
    {
     "data": {
      "text/html": [
       "<strong>png:</strong> 2"
      ],
      "text/latex": [
       "\\textbf{png:} 2"
      ],
      "text/markdown": [
       "**png:** 2"
      ],
      "text/plain": [
       "png \n",
       "  2 "
      ]
     },
     "metadata": {},
     "output_type": "display_data"
    },
    {
     "data": {
      "text/html": [
       "<strong>png:</strong> 2"
      ],
      "text/latex": [
       "\\textbf{png:} 2"
      ],
      "text/markdown": [
       "**png:** 2"
      ],
      "text/plain": [
       "png \n",
       "  2 "
      ]
     },
     "metadata": {},
     "output_type": "display_data"
    },
    {
     "data": {
      "text/html": [
       "<strong>png:</strong> 2"
      ],
      "text/latex": [
       "\\textbf{png:} 2"
      ],
      "text/markdown": [
       "**png:** 2"
      ],
      "text/plain": [
       "png \n",
       "  2 "
      ]
     },
     "metadata": {},
     "output_type": "display_data"
    }
   ],
   "source": [
    "# Überlagerte Graphen aller Orte der letzten 3 Jahre\n",
    "daten_letzten_3_jahre <- subset(wetterdaten[[1]], MESS_DATUM >= start_datum & MESS_DATUM <= end_datum)\n",
    "colors = list(\"green\", \"blue\", \"orange\", \"red\", \"purple\", \"black\", \"yellow\", \"pink\", \"brown\", \"grey\")\n",
    "\n",
    "#TMK\n",
    "png_name <- paste(\"plots/3years/\", \"alle\", \"_TMK.png\", sep = \"\")\n",
    "png(png_name, width=800, height=400)\n",
    "plot(daten_letzten_3_jahre$MESS_DATUM, \n",
    "    daten_letzten_3_jahre$TMK, \n",
    "    type = \"n\", col = \"green\", \n",
    "    xlab = \"Jahr\", \n",
    "    ylab = \"TMK - Tagesmittel Lufttemperatur in °C in 2 m Höhe\", \n",
    "    main = \"Überlagerte TMK-Graphen der letzten 3 Jahre\"\n",
    "    )\n",
    "\n",
    "for (i in seq_along(wetterdaten)) {\n",
    "  daten_letzten_3_jahre <- subset(wetterdaten[[i]], MESS_DATUM >= start_datum & MESS_DATUM <= end_datum)\n",
    "  lines(daten_letzten_3_jahre$MESS_DATUM, daten_letzten_3_jahre$TMK, type = \"l\", col = colors[[i]])\n",
    "}\n",
    "dev.off()\n",
    "\n",
    "#RSK\n",
    "png_name <- paste(\"plots/3years/\", \"alle\", \"_RSK.png\", sep = \"\")\n",
    "png(png_name, width=800, height=400)\n",
    "plot(daten_letzten_3_jahre$MESS_DATUM,\n",
    "  daten_letzten_3_jahre$RSK,\n",
    "  type = \"n\", \n",
    "  col = \"blue\", \n",
    "  xlab = \"Jahr\", \n",
    "  ylab = \"RSK - tägliche Niederschlagshöhe in mm\", \n",
    "  main = \"Überlagerte RSK-Graphen der letzten 3 Jahre\"\n",
    "  )\n",
    "  \n",
    "for (i in seq_along(wetterdaten)) {\n",
    "  daten_letzten_3_jahre <- subset(wetterdaten[[i]], MESS_DATUM >= start_datum & MESS_DATUM <= end_datum)\n",
    "  lines(daten_letzten_3_jahre$MESS_DATUM, daten_letzten_3_jahre$RSK, type = \"l\", col = colors[[i]])\n",
    "}\n",
    "dev.off()\n",
    "\n",
    "#SDK\n",
    "png_name <- paste(\"plots/3years/\", \"alle\", \"_SDK.png\", sep = \"\")\n",
    "png(png_name, width=800, height=400)\n",
    "plot(daten_letzten_3_jahre$MESS_DATUM,\n",
    "  daten_letzten_3_jahre$SDK,\n",
    "  type = \"n\", \n",
    "  col = \"orange\", \n",
    "  xlab = \"Jahr\", \n",
    "  ylab = \"SDK - tägliche Sonnenscheindauer in h\", \n",
    "  main = \"Überlagerte SDK-Graphen der letzten 3 Jahre\"\n",
    "  )\n",
    "\n",
    "for (i in seq_along(wetterdaten)) {\n",
    "  daten_letzten_3_jahre <- subset(wetterdaten[[i]], MESS_DATUM >= start_datum & MESS_DATUM <= end_datum)\n",
    "  lines(daten_letzten_3_jahre$MESS_DATUM, daten_letzten_3_jahre$SDK, type = \"p\", col = colors[[i]])\n",
    "}\n",
    "dev.off()"
   ]
  },
  {
   "cell_type": "markdown",
   "metadata": {},
   "source": [
    "## Variabilitätsscore"
   ]
  },
  {
   "cell_type": "code",
   "execution_count": 32,
   "metadata": {
    "vscode": {
     "languageId": "r"
    }
   },
   "outputs": [
    {
     "name": "stdout",
     "output_type": "stream",
     "text": [
      "      Varianz_RSK Stda_RSK Varianz_SDK Stda_SDK Varianz_TMK Stda_TMK\n",
      " [1,]    39.06270 6.250016    21.71427 4.659858    54.41073 7.376363\n",
      " [2,]    19.18963 4.380597    19.73699 4.442633    37.61751 6.133311\n",
      " [3,]    79.90281 8.938837    20.05801 4.478617    50.34378 7.095335\n",
      " [4,]    50.11535 7.079220    21.28061 4.613091    55.95097 7.480038\n",
      " [5,]    31.45721 5.608673    22.05088 4.695837    54.35087 7.372305\n",
      " [6,]    16.42201 4.052408    20.77976 4.558483    33.75741 5.810113\n",
      " [7,]    77.30649 8.792411    16.39719 4.049344    56.84773 7.539743\n",
      " [8,]    16.99618 4.122642    21.23359 4.607992    56.47594 7.515048\n",
      " [9,]    14.38721 3.793048    23.10893 4.807175    42.68266 6.533197\n",
      "[10,]    14.38272 3.792455    19.78939 4.448527    48.66625 6.976120\n"
     ]
    }
   ],
   "source": [
    "# Matrix für Varianz und Standardabweichung (6 Spalten, n Zeilen)\n",
    "n <- length(wetterdaten)\n",
    "ergebnis_matrix <- matrix(numeric(n * 6), nrow = n, ncol = 6)\n",
    "\n",
    "# Benenne die Spalten der Matrix\n",
    "colnames(ergebnis_matrix) <- c(\"Varianz_RSK\", \"Stda_RSK\", \n",
    "                               \"Varianz_SDK\", \"Stda_SDK\", \n",
    "                               \"Varianz_TMK\", \"Stda_TMK\")\n",
    "\n",
    "for (i in seq_along(wetterdaten)) {\n",
    "  ergebnis_matrix[i, 1] <- var(wetterdaten[[i]]$RSK, na.rm = TRUE)\n",
    "  ergebnis_matrix[i, 2] <- sqrt(ergebnis_matrix[i, 1])\n",
    "  \n",
    "  ergebnis_matrix[i, 3] <- var(wetterdaten[[i]]$SDK, na.rm = TRUE)\n",
    "  ergebnis_matrix[i, 4] <- sqrt(ergebnis_matrix[i, 3])\n",
    "  \n",
    "  ergebnis_matrix[i, 5] <- var(wetterdaten[[i]]$TMK, na.rm = TRUE)\n",
    "  ergebnis_matrix[i, 6] <- sqrt(ergebnis_matrix[i, 5])\n",
    "}\n",
    "print(ergebnis_matrix)\n"
   ]
  },
  {
   "cell_type": "code",
   "execution_count": 34,
   "metadata": {
    "vscode": {
     "languageId": "r"
    }
   },
   "outputs": [
    {
     "name": "stdout",
     "output_type": "stream",
     "text": [
      "   Varianz_RSK Stda_RSK Varianz_SDK Stda_SDK Varianz_TMK Stda_TMK\n",
      "1     39.06270 6.250016    21.71427 4.659858    54.41073 7.376363\n",
      "2     19.18963 4.380597    19.73699 4.442633    37.61751 6.133311\n",
      "3     79.90281 8.938837    20.05801 4.478617    50.34378 7.095335\n",
      "4     50.11535 7.079220    21.28061 4.613091    55.95097 7.480038\n",
      "5     31.45721 5.608673    22.05088 4.695837    54.35087 7.372305\n",
      "6     16.42201 4.052408    20.77976 4.558483    33.75741 5.810113\n",
      "7     77.30649 8.792411    16.39719 4.049344    56.84773 7.539743\n",
      "8     16.99618 4.122642    21.23359 4.607992    56.47594 7.515048\n",
      "9     14.38721 3.793048    23.10893 4.807175    42.68266 6.533197\n",
      "10    14.38272 3.792455    19.78939 4.448527    48.66625 6.976120\n"
     ]
    }
   ],
   "source": [
    "ergebnis_df <- as.data.frame(ergebnis_matrix)\n",
    "print(ergebnis_df)"
   ]
  },
  {
   "cell_type": "code",
   "execution_count": 14,
   "metadata": {
    "vscode": {
     "languageId": "r"
    }
   },
   "outputs": [
    {
     "name": "stdout",
     "output_type": "stream",
     "text": [
      "[1] \"Varianz:  39.0626988926645\"\n",
      "[1] \"Standardabweichung:  6.25001591139291\"\n"
     ]
    }
   ],
   "source": [
    "varianz <- var(wetterdaten[[1]]$RSK)\n",
    "stda <- sd(wetterdaten[[1]]$RSK)\n",
    "print(paste(\"Varianz: \", varianz))\n",
    "print(paste(\"Standardabweichung: \", stda))"
   ]
  },
  {
   "cell_type": "code",
   "execution_count": 19,
   "metadata": {
    "vscode": {
     "languageId": "r"
    }
   },
   "outputs": [
    {
     "data": {
      "text/html": [
       "<ol>\n",
       "\t<li>39.0626988926645</li>\n",
       "\t<li>19.1896312561028</li>\n",
       "\t<li>79.9028117423977</li>\n",
       "\t<li>50.1153530143582</li>\n",
       "\t<li>31.4572147607298</li>\n",
       "\t<li>16.4220126860692</li>\n",
       "\t<li>77.3064867543138</li>\n",
       "\t<li>16.9961753730392</li>\n",
       "\t<li>14.3872136239839</li>\n",
       "\t<li>14.3827164295066</li>\n",
       "</ol>\n"
      ],
      "text/latex": [
       "\\begin{enumerate}\n",
       "\\item 39.0626988926645\n",
       "\\item 19.1896312561028\n",
       "\\item 79.9028117423977\n",
       "\\item 50.1153530143582\n",
       "\\item 31.4572147607298\n",
       "\\item 16.4220126860692\n",
       "\\item 77.3064867543138\n",
       "\\item 16.9961753730392\n",
       "\\item 14.3872136239839\n",
       "\\item 14.3827164295066\n",
       "\\end{enumerate}\n"
      ],
      "text/markdown": [
       "1. 39.0626988926645\n",
       "2. 19.1896312561028\n",
       "3. 79.9028117423977\n",
       "4. 50.1153530143582\n",
       "5. 31.4572147607298\n",
       "6. 16.4220126860692\n",
       "7. 77.3064867543138\n",
       "8. 16.9961753730392\n",
       "9. 14.3872136239839\n",
       "10. 14.3827164295066\n",
       "\n",
       "\n"
      ],
      "text/plain": [
       "[[1]]\n",
       "[1] 39.0627\n",
       "\n",
       "[[2]]\n",
       "[1] 19.18963\n",
       "\n",
       "[[3]]\n",
       "[1] 79.90281\n",
       "\n",
       "[[4]]\n",
       "[1] 50.11535\n",
       "\n",
       "[[5]]\n",
       "[1] 31.45721\n",
       "\n",
       "[[6]]\n",
       "[1] 16.42201\n",
       "\n",
       "[[7]]\n",
       "[1] 77.30649\n",
       "\n",
       "[[8]]\n",
       "[1] 16.99618\n",
       "\n",
       "[[9]]\n",
       "[1] 14.38721\n",
       "\n",
       "[[10]]\n",
       "[1] 14.38272\n"
      ]
     },
     "metadata": {},
     "output_type": "display_data"
    }
   ],
   "source": [
    "varianz_rsk"
   ]
  },
  {
   "cell_type": "code",
   "execution_count": 29,
   "metadata": {
    "vscode": {
     "languageId": "r"
    }
   },
   "outputs": [
    {
     "data": {
      "text/html": [
       "<table class=\"dataframe\">\n",
       "<caption>A data.frame: 10 × 11</caption>\n",
       "<thead>\n",
       "\t<tr><th scope=col>Ort</th><th scope=col>v_RSK.39.0626988926645</th><th scope=col>v_RSK.19.1896312561028</th><th scope=col>v_RSK.79.9028117423977</th><th scope=col>v_RSK.50.1153530143582</th><th scope=col>v_RSK.31.4572147607298</th><th scope=col>v_RSK.16.4220126860692</th><th scope=col>v_RSK.77.3064867543138</th><th scope=col>v_RSK.16.9961753730392</th><th scope=col>v_RSK.14.3872136239839</th><th scope=col>v_RSK.14.3827164295066</th></tr>\n",
       "\t<tr><th scope=col>&lt;chr&gt;</th><th scope=col>&lt;dbl&gt;</th><th scope=col>&lt;dbl&gt;</th><th scope=col>&lt;dbl&gt;</th><th scope=col>&lt;dbl&gt;</th><th scope=col>&lt;dbl&gt;</th><th scope=col>&lt;dbl&gt;</th><th scope=col>&lt;dbl&gt;</th><th scope=col>&lt;dbl&gt;</th><th scope=col>&lt;dbl&gt;</th><th scope=col>&lt;dbl&gt;</th></tr>\n",
       "</thead>\n",
       "<tbody>\n",
       "\t<tr><td>station_856 </td><td>39.0627</td><td>19.18963</td><td>79.90281</td><td>50.11535</td><td>31.45721</td><td>16.42201</td><td>77.30649</td><td>16.99618</td><td>14.38721</td><td>14.38272</td></tr>\n",
       "\t<tr><td>station_891 </td><td>39.0627</td><td>19.18963</td><td>79.90281</td><td>50.11535</td><td>31.45721</td><td>16.42201</td><td>77.30649</td><td>16.99618</td><td>14.38721</td><td>14.38272</td></tr>\n",
       "\t<tr><td>station_1346</td><td>39.0627</td><td>19.18963</td><td>79.90281</td><td>50.11535</td><td>31.45721</td><td>16.42201</td><td>77.30649</td><td>16.99618</td><td>14.38721</td><td>14.38272</td></tr>\n",
       "\t<tr><td>station_2290</td><td>39.0627</td><td>19.18963</td><td>79.90281</td><td>50.11535</td><td>31.45721</td><td>16.42201</td><td>77.30649</td><td>16.99618</td><td>14.38721</td><td>14.38272</td></tr>\n",
       "\t<tr><td>station_2712</td><td>39.0627</td><td>19.18963</td><td>79.90281</td><td>50.11535</td><td>31.45721</td><td>16.42201</td><td>77.30649</td><td>16.99618</td><td>14.38721</td><td>14.38272</td></tr>\n",
       "\t<tr><td>station_3631</td><td>39.0627</td><td>19.18963</td><td>79.90281</td><td>50.11535</td><td>31.45721</td><td>16.42201</td><td>77.30649</td><td>16.99618</td><td>14.38721</td><td>14.38272</td></tr>\n",
       "\t<tr><td>station_3730</td><td>39.0627</td><td>19.18963</td><td>79.90281</td><td>50.11535</td><td>31.45721</td><td>16.42201</td><td>77.30649</td><td>16.99618</td><td>14.38721</td><td>14.38272</td></tr>\n",
       "\t<tr><td>station_3987</td><td>39.0627</td><td>19.18963</td><td>79.90281</td><td>50.11535</td><td>31.45721</td><td>16.42201</td><td>77.30649</td><td>16.99618</td><td>14.38721</td><td>14.38272</td></tr>\n",
       "\t<tr><td>station_4271</td><td>39.0627</td><td>19.18963</td><td>79.90281</td><td>50.11535</td><td>31.45721</td><td>16.42201</td><td>77.30649</td><td>16.99618</td><td>14.38721</td><td>14.38272</td></tr>\n",
       "\t<tr><td>station_4625</td><td>39.0627</td><td>19.18963</td><td>79.90281</td><td>50.11535</td><td>31.45721</td><td>16.42201</td><td>77.30649</td><td>16.99618</td><td>14.38721</td><td>14.38272</td></tr>\n",
       "</tbody>\n",
       "</table>\n"
      ],
      "text/latex": [
       "A data.frame: 10 × 11\n",
       "\\begin{tabular}{lllllllllll}\n",
       " Ort & v\\_RSK.39.0626988926645 & v\\_RSK.19.1896312561028 & v\\_RSK.79.9028117423977 & v\\_RSK.50.1153530143582 & v\\_RSK.31.4572147607298 & v\\_RSK.16.4220126860692 & v\\_RSK.77.3064867543138 & v\\_RSK.16.9961753730392 & v\\_RSK.14.3872136239839 & v\\_RSK.14.3827164295066\\\\\n",
       " <chr> & <dbl> & <dbl> & <dbl> & <dbl> & <dbl> & <dbl> & <dbl> & <dbl> & <dbl> & <dbl>\\\\\n",
       "\\hline\n",
       "\t station\\_856  & 39.0627 & 19.18963 & 79.90281 & 50.11535 & 31.45721 & 16.42201 & 77.30649 & 16.99618 & 14.38721 & 14.38272\\\\\n",
       "\t station\\_891  & 39.0627 & 19.18963 & 79.90281 & 50.11535 & 31.45721 & 16.42201 & 77.30649 & 16.99618 & 14.38721 & 14.38272\\\\\n",
       "\t station\\_1346 & 39.0627 & 19.18963 & 79.90281 & 50.11535 & 31.45721 & 16.42201 & 77.30649 & 16.99618 & 14.38721 & 14.38272\\\\\n",
       "\t station\\_2290 & 39.0627 & 19.18963 & 79.90281 & 50.11535 & 31.45721 & 16.42201 & 77.30649 & 16.99618 & 14.38721 & 14.38272\\\\\n",
       "\t station\\_2712 & 39.0627 & 19.18963 & 79.90281 & 50.11535 & 31.45721 & 16.42201 & 77.30649 & 16.99618 & 14.38721 & 14.38272\\\\\n",
       "\t station\\_3631 & 39.0627 & 19.18963 & 79.90281 & 50.11535 & 31.45721 & 16.42201 & 77.30649 & 16.99618 & 14.38721 & 14.38272\\\\\n",
       "\t station\\_3730 & 39.0627 & 19.18963 & 79.90281 & 50.11535 & 31.45721 & 16.42201 & 77.30649 & 16.99618 & 14.38721 & 14.38272\\\\\n",
       "\t station\\_3987 & 39.0627 & 19.18963 & 79.90281 & 50.11535 & 31.45721 & 16.42201 & 77.30649 & 16.99618 & 14.38721 & 14.38272\\\\\n",
       "\t station\\_4271 & 39.0627 & 19.18963 & 79.90281 & 50.11535 & 31.45721 & 16.42201 & 77.30649 & 16.99618 & 14.38721 & 14.38272\\\\\n",
       "\t station\\_4625 & 39.0627 & 19.18963 & 79.90281 & 50.11535 & 31.45721 & 16.42201 & 77.30649 & 16.99618 & 14.38721 & 14.38272\\\\\n",
       "\\end{tabular}\n"
      ],
      "text/markdown": [
       "\n",
       "A data.frame: 10 × 11\n",
       "\n",
       "| Ort &lt;chr&gt; | v_RSK.39.0626988926645 &lt;dbl&gt; | v_RSK.19.1896312561028 &lt;dbl&gt; | v_RSK.79.9028117423977 &lt;dbl&gt; | v_RSK.50.1153530143582 &lt;dbl&gt; | v_RSK.31.4572147607298 &lt;dbl&gt; | v_RSK.16.4220126860692 &lt;dbl&gt; | v_RSK.77.3064867543138 &lt;dbl&gt; | v_RSK.16.9961753730392 &lt;dbl&gt; | v_RSK.14.3872136239839 &lt;dbl&gt; | v_RSK.14.3827164295066 &lt;dbl&gt; |\n",
       "|---|---|---|---|---|---|---|---|---|---|---|\n",
       "| station_856  | 39.0627 | 19.18963 | 79.90281 | 50.11535 | 31.45721 | 16.42201 | 77.30649 | 16.99618 | 14.38721 | 14.38272 |\n",
       "| station_891  | 39.0627 | 19.18963 | 79.90281 | 50.11535 | 31.45721 | 16.42201 | 77.30649 | 16.99618 | 14.38721 | 14.38272 |\n",
       "| station_1346 | 39.0627 | 19.18963 | 79.90281 | 50.11535 | 31.45721 | 16.42201 | 77.30649 | 16.99618 | 14.38721 | 14.38272 |\n",
       "| station_2290 | 39.0627 | 19.18963 | 79.90281 | 50.11535 | 31.45721 | 16.42201 | 77.30649 | 16.99618 | 14.38721 | 14.38272 |\n",
       "| station_2712 | 39.0627 | 19.18963 | 79.90281 | 50.11535 | 31.45721 | 16.42201 | 77.30649 | 16.99618 | 14.38721 | 14.38272 |\n",
       "| station_3631 | 39.0627 | 19.18963 | 79.90281 | 50.11535 | 31.45721 | 16.42201 | 77.30649 | 16.99618 | 14.38721 | 14.38272 |\n",
       "| station_3730 | 39.0627 | 19.18963 | 79.90281 | 50.11535 | 31.45721 | 16.42201 | 77.30649 | 16.99618 | 14.38721 | 14.38272 |\n",
       "| station_3987 | 39.0627 | 19.18963 | 79.90281 | 50.11535 | 31.45721 | 16.42201 | 77.30649 | 16.99618 | 14.38721 | 14.38272 |\n",
       "| station_4271 | 39.0627 | 19.18963 | 79.90281 | 50.11535 | 31.45721 | 16.42201 | 77.30649 | 16.99618 | 14.38721 | 14.38272 |\n",
       "| station_4625 | 39.0627 | 19.18963 | 79.90281 | 50.11535 | 31.45721 | 16.42201 | 77.30649 | 16.99618 | 14.38721 | 14.38272 |\n",
       "\n"
      ],
      "text/plain": [
       "   Ort          v_RSK.39.0626988926645 v_RSK.19.1896312561028\n",
       "1  station_856  39.0627                19.18963              \n",
       "2  station_891  39.0627                19.18963              \n",
       "3  station_1346 39.0627                19.18963              \n",
       "4  station_2290 39.0627                19.18963              \n",
       "5  station_2712 39.0627                19.18963              \n",
       "6  station_3631 39.0627                19.18963              \n",
       "7  station_3730 39.0627                19.18963              \n",
       "8  station_3987 39.0627                19.18963              \n",
       "9  station_4271 39.0627                19.18963              \n",
       "10 station_4625 39.0627                19.18963              \n",
       "   v_RSK.79.9028117423977 v_RSK.50.1153530143582 v_RSK.31.4572147607298\n",
       "1  79.90281               50.11535               31.45721              \n",
       "2  79.90281               50.11535               31.45721              \n",
       "3  79.90281               50.11535               31.45721              \n",
       "4  79.90281               50.11535               31.45721              \n",
       "5  79.90281               50.11535               31.45721              \n",
       "6  79.90281               50.11535               31.45721              \n",
       "7  79.90281               50.11535               31.45721              \n",
       "8  79.90281               50.11535               31.45721              \n",
       "9  79.90281               50.11535               31.45721              \n",
       "10 79.90281               50.11535               31.45721              \n",
       "   v_RSK.16.4220126860692 v_RSK.77.3064867543138 v_RSK.16.9961753730392\n",
       "1  16.42201               77.30649               16.99618              \n",
       "2  16.42201               77.30649               16.99618              \n",
       "3  16.42201               77.30649               16.99618              \n",
       "4  16.42201               77.30649               16.99618              \n",
       "5  16.42201               77.30649               16.99618              \n",
       "6  16.42201               77.30649               16.99618              \n",
       "7  16.42201               77.30649               16.99618              \n",
       "8  16.42201               77.30649               16.99618              \n",
       "9  16.42201               77.30649               16.99618              \n",
       "10 16.42201               77.30649               16.99618              \n",
       "   v_RSK.14.3872136239839 v_RSK.14.3827164295066\n",
       "1  14.38721               14.38272              \n",
       "2  14.38721               14.38272              \n",
       "3  14.38721               14.38272              \n",
       "4  14.38721               14.38272              \n",
       "5  14.38721               14.38272              \n",
       "6  14.38721               14.38272              \n",
       "7  14.38721               14.38272              \n",
       "8  14.38721               14.38272              \n",
       "9  14.38721               14.38272              \n",
       "10 14.38721               14.38272              "
      ]
     },
     "metadata": {},
     "output_type": "display_data"
    }
   ],
   "source": [
    "var_stda <- data.frame(\"Ort\", \"v_RSK\", \"v_SDK\", \"v_TMK\", \"s_RSK\", \"s_SDK\", \"s_TMK\")\n",
    "var_stda <- data.frame(\"Ort\" = names(wetterdaten), v_RSK = c(varianz_rsk))\n",
    "var_stda"
   ]
  },
  {
   "cell_type": "code",
   "execution_count": 28,
   "metadata": {
    "vscode": {
     "languageId": "r"
    }
   },
   "outputs": [
    {
     "data": {
      "text/html": [
       "<ol>\n",
       "\t<li>39.0626988926645</li>\n",
       "\t<li>19.1896312561028</li>\n",
       "\t<li>79.9028117423977</li>\n",
       "\t<li>50.1153530143582</li>\n",
       "\t<li>31.4572147607298</li>\n",
       "\t<li>16.4220126860692</li>\n",
       "\t<li>77.3064867543138</li>\n",
       "\t<li>16.9961753730392</li>\n",
       "\t<li>14.3872136239839</li>\n",
       "\t<li>14.3827164295066</li>\n",
       "</ol>\n"
      ],
      "text/latex": [
       "\\begin{enumerate}\n",
       "\\item 39.0626988926645\n",
       "\\item 19.1896312561028\n",
       "\\item 79.9028117423977\n",
       "\\item 50.1153530143582\n",
       "\\item 31.4572147607298\n",
       "\\item 16.4220126860692\n",
       "\\item 77.3064867543138\n",
       "\\item 16.9961753730392\n",
       "\\item 14.3872136239839\n",
       "\\item 14.3827164295066\n",
       "\\end{enumerate}\n"
      ],
      "text/markdown": [
       "1. 39.0626988926645\n",
       "2. 19.1896312561028\n",
       "3. 79.9028117423977\n",
       "4. 50.1153530143582\n",
       "5. 31.4572147607298\n",
       "6. 16.4220126860692\n",
       "7. 77.3064867543138\n",
       "8. 16.9961753730392\n",
       "9. 14.3872136239839\n",
       "10. 14.3827164295066\n",
       "\n",
       "\n"
      ],
      "text/plain": [
       "[[1]]\n",
       "[1] 39.0627\n",
       "\n",
       "[[2]]\n",
       "[1] 19.18963\n",
       "\n",
       "[[3]]\n",
       "[1] 79.90281\n",
       "\n",
       "[[4]]\n",
       "[1] 50.11535\n",
       "\n",
       "[[5]]\n",
       "[1] 31.45721\n",
       "\n",
       "[[6]]\n",
       "[1] 16.42201\n",
       "\n",
       "[[7]]\n",
       "[1] 77.30649\n",
       "\n",
       "[[8]]\n",
       "[1] 16.99618\n",
       "\n",
       "[[9]]\n",
       "[1] 14.38721\n",
       "\n",
       "[[10]]\n",
       "[1] 14.38272\n"
      ]
     },
     "metadata": {},
     "output_type": "display_data"
    },
    {
     "name": "stderr",
     "output_type": "stream",
     "text": [
      "Warning message in remove(var_stda):\n",
      "“Objekt 'var_stda' nicht gefunden”\n"
     ]
    }
   ],
   "source": [
    "varianz_rsk\n",
    "remove(var_stda)"
   ]
  }
 ],
 "metadata": {
  "kernelspec": {
   "display_name": "R",
   "language": "R",
   "name": "ir"
  },
  "language_info": {
   "codemirror_mode": "r",
   "file_extension": ".r",
   "mimetype": "text/x-r-source",
   "name": "R",
   "pygments_lexer": "r",
   "version": "4.1.2"
  }
 },
 "nbformat": 4,
 "nbformat_minor": 2
}
