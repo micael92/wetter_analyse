{
 "cells": [
  {
   "cell_type": "markdown",
   "metadata": {},
   "source": [
    "### Wetterdaten für die gewählten Stationen einlesen und visualisieren\n",
    "\n",
    "- gespeichert Daten laden\n",
    "- Daten der letzten 3 Jahre darstellen"
   ]
  },
  {
   "cell_type": "code",
   "execution_count": 2,
   "metadata": {
    "vscode": {
     "languageId": "r"
    }
   },
   "outputs": [],
   "source": [
    "# Daten einlesen\n",
    "wetterdaten <- readRDS(\"datasets/rds/wetterdaten.rds\")"
   ]
  },
  {
   "cell_type": "code",
   "execution_count": 3,
   "metadata": {
    "vscode": {
     "languageId": "r"
    }
   },
   "outputs": [],
   "source": [
    "# Bei Bedarf verschiedene Informationen zu den Daten anzeigen\n",
    "for (i in seq_along(wetterdaten)) {\n",
    "  #print(names(wetterdaten)[i])\n",
    "  #print(paste(\"Anzahl der Zeilen\", names(wetterdaten[i]), \": \", nrow(wetterdaten[[i]])))\n",
    "  #print(summary(wetterdaten[[i]]))\n",
    "  #print(head(wetterdaten[[1]]))\n",
    "  #print(nrow(wetterdaten[[1]]))\n",
    "  #boxplot(wetterdaten[[i]]$TMK, main = names(wetterdaten)[i])\n",
    "  #print(subset(wetterdaten[[i]], RSK > 400.0 | RSK < 0.0))\n",
    "  #print(subset(wetterdaten[[i]], SDK > 24 | SDK < 0))\n",
    "  #print(subset(wetterdaten[[i]], TMK > 60 | TMK < -60))\n",
    "  #plot(wetterdaten[[i]]$MESS_DATUM, wetterdaten[[i]]$TMK, type = \"l\", col = \"blue\", xlab = \"Datum\", ylab = \"Temperatur\", main = names(wetterdaten)[i])\n",
    "  #boxplot(wetterdaten[[i]]$TMK, main = names(wetterdaten)[i])\n",
    "  #break\n",
    "}"
   ]
  },
  {
   "cell_type": "code",
   "execution_count": 4,
   "metadata": {
    "vscode": {
     "languageId": "r"
    }
   },
   "outputs": [
    {
     "data": {
      "text/html": [
       "TRUE"
      ],
      "text/latex": [
       "TRUE"
      ],
      "text/markdown": [
       "TRUE"
      ],
      "text/plain": [
       "[1] TRUE"
      ]
     },
     "metadata": {},
     "output_type": "display_data"
    }
   ],
   "source": [
    "# Daten der letzten 3 Jahre extrahieren\n",
    "# Numerische Darstellung der letzten 3 Jahre mit summary() erzeugen und speichern\n",
    "start_datum <- as.Date(\"2021-01-01\")\n",
    "end_datum <- as.Date(\"2023-12-31\")\n",
    "\n",
    "file.create(\"outputs/numerisch_3_jahre.txt\")\n",
    "\n",
    "for (i in seq_along(wetterdaten)) {\n",
    "  daten_letzten_3_jahre <- subset(wetterdaten[[i]], MESS_DATUM >= start_datum & MESS_DATUM <= end_datum)\n",
    "  sink(\"outputs/numerisch_3_jahre.txt\", append = TRUE)\n",
    "  print(names(wetterdaten)[i])\n",
    "  temp_subset <- daten_letzten_3_jahre[, c(\"RSK\", \"SDK\", \"TMK\")]\n",
    "  print(summary(temp_subset))\n",
    "  cat(\"\\n\")\n",
    "  sink()\n",
    "}\n"
   ]
  },
  {
   "cell_type": "code",
   "execution_count": 7,
   "metadata": {
    "vscode": {
     "languageId": "r"
    }
   },
   "outputs": [],
   "source": [
    "# Graphen für alle Orte der letzten 3 Jahre erstellen\n",
    "for (i in seq_along(wetterdaten)) {\n",
    "  daten_letzten_3_jahre <- subset(wetterdaten[[i]], MESS_DATUM >= start_datum & MESS_DATUM <= end_datum)\n",
    "  \n",
    "  #RSK\n",
    "  png_name <- paste(\"plots/3years/\", names(wetterdaten)[i], \"_RSK.png\", sep = \"\")\n",
    "  png(png_name, width=800, height=400)\n",
    "  plot(daten_letzten_3_jahre$MESS_DATUM, daten_letzten_3_jahre$RSK,\n",
    "  type = \"l\",\n",
    "  col = \"blue\",\n",
    "  xlab = \"Jahr\",\n",
    "  ylab = \"RSK\",\n",
    "  main = paste(\"RSK - tägliche Niederschlagshöhe in mm - \" , names(wetterdaten)[i]))\n",
    "  dev.off()\n",
    "  \n",
    "  #SDK\n",
    "  png_name <- paste(\"plots/3years/\", names(wetterdaten)[i], \"_SDK.png\", sep = \"\")\n",
    "  png(png_name, width=800, height=400)\n",
    "  plot(daten_letzten_3_jahre$MESS_DATUM, daten_letzten_3_jahre$SDK,\n",
    "  type = \"p\",\n",
    "  col = \"orange\",\n",
    "  xlab = \"Jahr\",\n",
    "  ylab = \"SDK\",\n",
    "  main = paste(\"SDK - tägliche Sonnenscheindauer in h - \", names(wetterdaten)[i]))\n",
    "  dev.off()\n",
    "  \n",
    "  #TMK\n",
    "  png_name <- paste(\"plots/3years/\", names(wetterdaten)[i], \"_TMK.png\", sep = \"\")\n",
    "  png(png_name, width=800, height=400)\n",
    "  plot(daten_letzten_3_jahre$MESS_DATUM, daten_letzten_3_jahre$TMK,\n",
    "  type = \"l\",\n",
    "  col = \"green\",\n",
    "  xlab = \"Jahr\",\n",
    "  ylab = \"TMK\",\n",
    "  main = paste(\"TMK - Tagesmittel Lufttemperatur in °C in 2 m Höhe - \", names(wetterdaten)[i]))\n",
    "  dev.off()\n",
    "  \n",
    "  #Kombiniert\n",
    "  cex <- 2.3\n",
    "  png_name <- paste(\"plots/3years/combined/\", names(wetterdaten)[i], \"_combined.png\", sep = \"\")\n",
    "  png(png_name, width=1280, height=720)\n",
    "  # Set the number of rows in the plot layout\n",
    "  par(mfrow = c(3, 1), oma = c(4, 0, 0, 0))\n",
    "\n",
    "  # Plot the first variable (RSK)\n",
    "  par(mar = c(0, 5, 3, 2))\n",
    "  plot(daten_letzten_3_jahre$MESS_DATUM, daten_letzten_3_jahre$RSK,\n",
    "    type = \"l\",\n",
    "    col = \"blue\",\n",
    "    xlab = \"\",\n",
    "    ylab = \"RSK\",\n",
    "    xaxt = \"n\",\n",
    "    cex.lab=cex,\n",
    "    cex.axis=cex,\n",
    "    cex.main=cex)\n",
    "  mtext(paste(\"RSK, SDK, TMK - der letzten drei Jahre\", names(wetterdaten)[i]), cex=cex)\n",
    "\n",
    "  # Plot the second variable (SDK)\n",
    "  par(mar = c(0, 5, 0, 2))\n",
    "  plot(daten_letzten_3_jahre$MESS_DATUM, daten_letzten_3_jahre$SDK,\n",
    "    type = \"p\",\n",
    "    col = \"orange\",\n",
    "    xlab = \"\",\n",
    "    ylab = \"SDK\",\n",
    "    xaxt = \"n\",\n",
    "    cex.lab=cex,\n",
    "    cex.axis=cex,\n",
    "    cex.main=cex)\n",
    "\n",
    "  # Plot the third variable (TMK)\n",
    "  par(mar = c(2, 5, 0, 2))\n",
    "  plot(daten_letzten_3_jahre$MESS_DATUM, daten_letzten_3_jahre$TMK,\n",
    "    type = \"l\",\n",
    "    col = \"green\",\n",
    "    xlab = \"Jahr\",\n",
    "    ylab = \"TMK\",\n",
    "    cex.lab=cex,\n",
    "    cex.axis=cex,\n",
    "    cex.main=cex)\n",
    "\n",
    "  dev.off()\n",
    "  #break\n",
    "}"
   ]
  },
  {
   "cell_type": "code",
   "execution_count": 60,
   "metadata": {
    "vscode": {
     "languageId": "r"
    }
   },
   "outputs": [
    {
     "data": {
      "text/html": [
       "<strong>png:</strong> 2"
      ],
      "text/latex": [
       "\\textbf{png:} 2"
      ],
      "text/markdown": [
       "**png:** 2"
      ],
      "text/plain": [
       "png \n",
       "  2 "
      ]
     },
     "metadata": {},
     "output_type": "display_data"
    },
    {
     "data": {
      "text/html": [
       "<strong>png:</strong> 2"
      ],
      "text/latex": [
       "\\textbf{png:} 2"
      ],
      "text/markdown": [
       "**png:** 2"
      ],
      "text/plain": [
       "png \n",
       "  2 "
      ]
     },
     "metadata": {},
     "output_type": "display_data"
    },
    {
     "data": {
      "text/html": [
       "<strong>png:</strong> 2"
      ],
      "text/latex": [
       "\\textbf{png:} 2"
      ],
      "text/markdown": [
       "**png:** 2"
      ],
      "text/plain": [
       "png \n",
       "  2 "
      ]
     },
     "metadata": {},
     "output_type": "display_data"
    }
   ],
   "source": [
    "# Überlagerte Graphen aller Orte der letzten 3 Jahre\n",
    "daten_letzten_3_jahre <- subset(wetterdaten[[1]], MESS_DATUM >= start_datum & MESS_DATUM <= end_datum)\n",
    "colors = list(\"green\", \"blue\", \"orange\", \"red\", \"purple\", \"black\", \"yellow\", \"pink\", \"brown\", \"grey\")\n",
    "\n",
    "#TMK\n",
    "png_name <- paste(\"plots/3years/\", \"alle\", \"_TMK.png\", sep = \"\")\n",
    "png(png_name, width=800, height=400)\n",
    "plot(daten_letzten_3_jahre$MESS_DATUM, \n",
    "    daten_letzten_3_jahre$TMK, \n",
    "    type = \"n\", col = \"green\", \n",
    "    xlab = \"Jahr\", \n",
    "    ylab = \"TMK - Tagesmittel Lufttemperatur in °C in 2 m Höhe\", \n",
    "    main = \"Überlagerte TMK-Graphen der letzten 3 Jahre\"\n",
    "    )\n",
    "\n",
    "for (i in seq_along(wetterdaten)) {\n",
    "  daten_letzten_3_jahre <- subset(wetterdaten[[i]], MESS_DATUM >= start_datum & MESS_DATUM <= end_datum)\n",
    "  lines(daten_letzten_3_jahre$MESS_DATUM, daten_letzten_3_jahre$TMK, type = \"l\", col = colors[[i]])\n",
    "}\n",
    "dev.off()\n",
    "\n",
    "#RSK\n",
    "png_name <- paste(\"plots/3years/\", \"alle\", \"_RSK.png\", sep = \"\")\n",
    "png(png_name, width=800, height=400)\n",
    "plot(daten_letzten_3_jahre$MESS_DATUM,\n",
    "  daten_letzten_3_jahre$RSK,\n",
    "  type = \"n\", \n",
    "  col = \"blue\", \n",
    "  xlab = \"Jahr\", \n",
    "  ylab = \"RSK - tägliche Niederschlagshöhe in mm\", \n",
    "  main = \"Überlagerte RSK-Graphen der letzten 3 Jahre\"\n",
    "  )\n",
    "  \n",
    "for (i in seq_along(wetterdaten)) {\n",
    "  daten_letzten_3_jahre <- subset(wetterdaten[[i]], MESS_DATUM >= start_datum & MESS_DATUM <= end_datum)\n",
    "  lines(daten_letzten_3_jahre$MESS_DATUM, daten_letzten_3_jahre$RSK, type = \"l\", col = colors[[i]])\n",
    "}\n",
    "dev.off()\n",
    "\n",
    "#SDK\n",
    "png_name <- paste(\"plots/3years/\", \"alle\", \"_SDK.png\", sep = \"\")\n",
    "png(png_name, width=800, height=400)\n",
    "plot(daten_letzten_3_jahre$MESS_DATUM,\n",
    "  daten_letzten_3_jahre$SDK,\n",
    "  type = \"n\", \n",
    "  col = \"orange\", \n",
    "  xlab = \"Jahr\", \n",
    "  ylab = \"SDK - tägliche Sonnenscheindauer in h\", \n",
    "  main = \"Überlagerte SDK-Graphen der letzten 3 Jahre\"\n",
    "  )\n",
    "\n",
    "for (i in seq_along(wetterdaten)) {\n",
    "  daten_letzten_3_jahre <- subset(wetterdaten[[i]], MESS_DATUM >= start_datum & MESS_DATUM <= end_datum)\n",
    "  lines(daten_letzten_3_jahre$MESS_DATUM, daten_letzten_3_jahre$SDK, type = \"p\", col = colors[[i]])\n",
    "}\n",
    "dev.off()"
   ]
  }
 ],
 "metadata": {
  "kernelspec": {
   "display_name": "R",
   "language": "R",
   "name": "ir"
  },
  "language_info": {
   "codemirror_mode": "r",
   "file_extension": ".r",
   "mimetype": "text/x-r-source",
   "name": "R",
   "pygments_lexer": "r",
   "version": "4.1.2"
  }
 },
 "nbformat": 4,
 "nbformat_minor": 2
}
