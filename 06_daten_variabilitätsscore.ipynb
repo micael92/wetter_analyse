{
 "cells": [
  {
   "cell_type": "markdown",
   "metadata": {},
   "source": [
    "### Variabilitätsscore für die zehn gewaehlten Orte berechnen"
   ]
  },
  {
   "cell_type": "code",
   "execution_count": 1,
   "metadata": {
    "vscode": {
     "languageId": "r"
    }
   },
   "outputs": [],
   "source": [
    "# Daten einlesen\n",
    "wetterdaten <- readRDS(\"datasets/rds/wetterdaten.rds\")"
   ]
  },
  {
   "cell_type": "code",
   "execution_count": 2,
   "metadata": {
    "vscode": {
     "languageId": "r"
    }
   },
   "outputs": [
    {
     "name": "stdout",
     "output_type": "stream",
     "text": [
      "      id                 name STDA_RSK STDA_SDK STDA_TMK\n",
      "1  00856             Chieming 6.250016 4.659858 7.376363\n",
      "2  00891             Cuxhaven 4.380597 4.442633 6.133311\n",
      "3  01346 Feldberg/Schwarzwald 8.938837 4.478617 7.095335\n",
      "4  02290      Hohenpeißenberg 7.079220 4.613091 7.480038\n",
      "5  02712             Konstanz 5.608673 4.695837 7.372305\n",
      "6  03631            Norderney 4.052408 4.558483 5.810113\n",
      "7  03730           Oberstdorf 8.792411 4.049344 7.539743\n",
      "8  03987              Potsdam 4.122642 4.607992 7.515048\n",
      "9  04271   Rostock-Warnemünde 3.793048 4.807175 6.533197\n",
      "10 04625             Schwerin 3.792455 4.448527 6.976120\n"
     ]
    }
   ],
   "source": [
    "# Dataframe für die Standardabweichungen erzeugen\n",
    "n <- length(wetterdaten)\n",
    "standardabweichungen_df <- data.frame(\n",
    "  id = c(\"00856\", \"00891\", \"01346\", \"02290\", \"02712\", \"03631\", \"03730\", \"03987\", \"04271\", \"04625\"),\n",
    "  name = c(\"Chieming\", \"Cuxhaven\", \"Feldberg/Schwarzwald\", \"Hohenpeißenberg\", \"Konstanz\", \"Norderney\", \"Oberstdorf\", \"Potsdam\", \"Rostock-Warnemünde\", \"Schwerin\"),\n",
    "  STDA_RSK = numeric(n),\n",
    "  STDA_SDK = numeric(n),\n",
    "  STDA_TMK = numeric(n)\n",
    ")\n",
    "\n",
    "# Standardabweichung für jeden Ort in der Liste berechnen\n",
    "for (i in seq_along(wetterdaten)) {\n",
    "  standardabweichungen_df$STDA_RSK[i] <- sqrt(var(wetterdaten[[i]]$RSK, na.rm = TRUE))\n",
    "  standardabweichungen_df$STDA_SDK[i] <- sqrt(var(wetterdaten[[i]]$SDK, na.rm = TRUE))\n",
    "  standardabweichungen_df$STDA_TMK[i] <- sqrt(var(wetterdaten[[i]]$TMK, na.rm = TRUE))\n",
    "}\n",
    "\n",
    "# Ausgabe des Dataframes\n",
    "print(standardabweichungen_df)"
   ]
  },
  {
   "cell_type": "code",
   "execution_count": 3,
   "metadata": {
    "vscode": {
     "languageId": "r"
    }
   },
   "outputs": [
    {
     "name": "stdout",
     "output_type": "stream",
     "text": [
      "      id                 name STDA_RSK STDA_SDK STDA_TMK Variabilitaetsscore\n",
      "6  03631            Norderney 4.052408 4.558483 5.810113            5.208246\n",
      "2  00891             Cuxhaven 4.380597 4.442633 6.133311            5.444633\n",
      "9  04271   Rostock-Warnemünde 3.793048 4.807175 6.533197            5.639963\n",
      "10 04625             Schwerin 3.792455 4.448527 6.976120            5.833869\n",
      "8  03987              Potsdam 4.122642 4.607992 7.515048            6.255155\n",
      "5  02712             Konstanz 5.608673 4.695837 7.372305            6.484285\n",
      "1  00856             Chieming 6.250016 4.659858 7.376363            6.607793\n",
      "4  02290      Hohenpeißenberg 7.079220 4.613091 7.480038            6.826485\n",
      "3  01346 Feldberg/Schwarzwald 8.938837 4.478617 7.095335            6.940692\n",
      "7  03730           Oberstdorf 8.792411 4.049344 7.539743            7.092197\n"
     ]
    }
   ],
   "source": [
    "# Gewichtungen festlegen\n",
    "gewicht_rsk <- 0.2\n",
    "gewicht_sdk <- 0.2\n",
    "gewicht_tmk <- 0.6\n",
    "\n",
    "# Variabilitätsscore als gewichtete Summe der Standardabweichungen berechnen\n",
    "standardabweichungen_df$Variabilitaetsscore <- (standardabweichungen_df$STDA_RSK * gewicht_rsk) +\n",
    "                                               (standardabweichungen_df$STDA_SDK * gewicht_sdk) +\n",
    "                                               (standardabweichungen_df$STDA_TMK * gewicht_tmk)\n",
    "\n",
    "print(standardabweichungen_df[order(standardabweichungen_df$Variabilitaetsscore), ])"
   ]
  },
  {
   "cell_type": "code",
   "execution_count": 4,
   "metadata": {
    "vscode": {
     "languageId": "r"
    }
   },
   "outputs": [
    {
     "data": {
      "text/html": [
       "<strong>png:</strong> 2"
      ],
      "text/latex": [
       "\\textbf{png:} 2"
      ],
      "text/markdown": [
       "**png:** 2"
      ],
      "text/plain": [
       "png \n",
       "  2 "
      ]
     },
     "metadata": {},
     "output_type": "display_data"
    }
   ],
   "source": [
    "# Ranking dataframe erstellen\n",
    "rank_df <- data.frame(Name = standardabweichungen_df$name, Variabilitaetsscore = standardabweichungen_df$Variabilitaetsscore)\n",
    "\n",
    "# Sortiere den DataFrame für eine bessere Visualisierung\n",
    "rank_df <- rank_df[order(rank_df$Variabilitaetsscore, decreasing = TRUE), ]\n",
    "\n",
    "# Erstelle ein Balkendiagramm\n",
    "if (!require(ggplot2, quietly = TRUE)) {\n",
    "  install.packages(\"ggplot2\")\n",
    "}\n",
    "\n",
    "png_name <- paste(\"plots/rank/\", \"rank_all.png\", sep = \"\")\n",
    "png(png_name, width=800, height=400)\n",
    "\n",
    "ggplot(rank_df, aes(x = reorder(Name, Variabilitaetsscore), y = Variabilitaetsscore, fill = Name)) +\n",
    "  geom_bar(stat = \"identity\") +\n",
    "  theme_minimal(base_size = 16) +\n",
    "  labs(x = \"\", y = \"Variabilitätsscore\") +\n",
    "  theme(axis.text.x = element_text(angle = 45, hjust = 1))\n",
    "\n",
    "dev.off()"
   ]
  },
  {
   "cell_type": "markdown",
   "metadata": {},
   "source": [
    "### Funktion für den Vergleich des Variabilitaetsscores von zwei Orten "
   ]
  },
  {
   "cell_type": "code",
   "execution_count": 9,
   "metadata": {
    "vscode": {
     "languageId": "r"
    }
   },
   "outputs": [
    {
     "data": {
      "text/html": [
       "<table class=\"dataframe\">\n",
       "<caption>A data.frame: 2 × 5</caption>\n",
       "<thead>\n",
       "\t<tr><th scope=col>STATIONS_ID</th><th scope=col>STDA_RSK</th><th scope=col>STDA_SDK</th><th scope=col>STDA_TMK</th><th scope=col>Variabilitaetsscore</th></tr>\n",
       "\t<tr><th scope=col>&lt;int&gt;</th><th scope=col>&lt;dbl&gt;</th><th scope=col>&lt;dbl&gt;</th><th scope=col>&lt;dbl&gt;</th><th scope=col>&lt;dbl&gt;</th></tr>\n",
       "</thead>\n",
       "<tbody>\n",
       "\t<tr><td>856</td><td>6.250016</td><td>4.659858</td><td>7.376363</td><td>6.607793</td></tr>\n",
       "\t<tr><td>891</td><td>4.380597</td><td>4.442633</td><td>6.133311</td><td>5.444633</td></tr>\n",
       "</tbody>\n",
       "</table>\n"
      ],
      "text/latex": [
       "A data.frame: 2 × 5\n",
       "\\begin{tabular}{lllll}\n",
       " STATIONS\\_ID & STDA\\_RSK & STDA\\_SDK & STDA\\_TMK & Variabilitaetsscore\\\\\n",
       " <int> & <dbl> & <dbl> & <dbl> & <dbl>\\\\\n",
       "\\hline\n",
       "\t 856 & 6.250016 & 4.659858 & 7.376363 & 6.607793\\\\\n",
       "\t 891 & 4.380597 & 4.442633 & 6.133311 & 5.444633\\\\\n",
       "\\end{tabular}\n"
      ],
      "text/markdown": [
       "\n",
       "A data.frame: 2 × 5\n",
       "\n",
       "| STATIONS_ID &lt;int&gt; | STDA_RSK &lt;dbl&gt; | STDA_SDK &lt;dbl&gt; | STDA_TMK &lt;dbl&gt; | Variabilitaetsscore &lt;dbl&gt; |\n",
       "|---|---|---|---|---|\n",
       "| 856 | 6.250016 | 4.659858 | 7.376363 | 6.607793 |\n",
       "| 891 | 4.380597 | 4.442633 | 6.133311 | 5.444633 |\n",
       "\n"
      ],
      "text/plain": [
       "  STATIONS_ID STDA_RSK STDA_SDK STDA_TMK Variabilitaetsscore\n",
       "1 856         6.250016 4.659858 7.376363 6.607793           \n",
       "2 891         4.380597 4.442633 6.133311 5.444633           "
      ]
     },
     "metadata": {},
     "output_type": "display_data"
    }
   ],
   "source": [
    "Orte_vergleichen <- function(df1, df2, w1, w2, w3) {\n",
    "\n",
    "  # Überprüfen, ob die Dataframes die benötigten Spalten enthalten\n",
    "  erforderlicheSpalten <- c(\"STATIONS_ID\", \"RSK\", \"SDK\", \"TMK\")\n",
    "  if (!all(erforderlicheSpalten %in% names(df1)) | !all(erforderlicheSpalten %in% names(df2))) {\n",
    "    stop(\"Einer der Dataframes enthält nicht alle erforderlichen Spalten.\")\n",
    "  }\n",
    "  # Ergebnis dataframe erstellen\n",
    "  standardabweichungen_df <- data.frame(\n",
    "  STATIONS_ID = c(df1$STATIONS_ID[1], df2$STATIONS_ID[1]),\n",
    "  STDA_RSK = numeric(2),\n",
    "  STDA_SDK = numeric(2),\n",
    "  STDA_TMK = numeric(2)\n",
    "  )\n",
    "\n",
    "  # Berechnung der Standardabweichungen für beide Dataframes\n",
    "  standardabweichungen_df$STDA_RSK[1] <- sqrt(var(df1$RSK))\n",
    "  standardabweichungen_df$STDA_SDK[1] <- sqrt(var(df1$SDK))\n",
    "  standardabweichungen_df$STDA_TMK[1] <- sqrt(var(df1$TMK))\n",
    "  standardabweichungen_df$STDA_RSK[2] <- sqrt(var(df2$RSK))\n",
    "  standardabweichungen_df$STDA_SDK[2] <- sqrt(var(df2$SDK))\n",
    "  standardabweichungen_df$STDA_TMK[2] <- sqrt(var(df2$TMK))\n",
    "\n",
    "  # Gewichtete Summe berechnen\n",
    "  standardabweichungen_df$Variabilitaetsscore <- (standardabweichungen_df$STDA_RSK * w1) +\n",
    "                                                 (standardabweichungen_df$STDA_SDK * w2) +\n",
    "                                                 (standardabweichungen_df$STDA_TMK * w3)\n",
    "\n",
    "  # Ergebnis plotten\n",
    "  png_name <- paste(\"plots/rank/\", \"rank\", df1$STATIONS_ID[1], \"_\", df2$STATIONS_ID[1], \".png\", sep = \"\")\n",
    "  png(png_name, width=300, height=400)\n",
    "  \n",
    "  plot <- ggplot(\n",
    "    standardabweichungen_df, \n",
    "    aes(x=factor(STATIONS_ID), y=Variabilitaetsscore, fill=factor(STATIONS_ID))) + \n",
    "    geom_bar(stat=\"identity\", width = 0.7) +\n",
    "    labs(x=\"Stations ID\", y=\"Variabilitätsscore\", title=\"\") +\n",
    "    theme_minimal(base_size = 16) + \n",
    "    guides(fill = FALSE)\n",
    "  print(plot)\n",
    "  dev.off()\n",
    "\n",
    "  # Ergebnis zurückgeben\n",
    "  file <- paste(\"outputs/\", df1$STATIONS_ID[1], \"_\", df2$STATIONS_ID[1], \".csv\", sep = \"\")\n",
    "  write.csv2(standardabweichungen_df, file, row.names = FALSE,)\n",
    "\n",
    "  return(standardabweichungen_df)\n",
    "}\n",
    "\n",
    "# Testen der Funktion\n",
    "Orte_vergleichen(wetterdaten[[1]], wetterdaten[[2]], 0.2, 0.2, 0.6)\n"
   ]
  }
 ],
 "metadata": {
  "kernelspec": {
   "display_name": "R",
   "language": "R",
   "name": "ir"
  },
  "language_info": {
   "codemirror_mode": "r",
   "file_extension": ".r",
   "mimetype": "text/x-r-source",
   "name": "R",
   "pygments_lexer": "r",
   "version": "4.1.2"
  }
 },
 "nbformat": 4,
 "nbformat_minor": 2
}
