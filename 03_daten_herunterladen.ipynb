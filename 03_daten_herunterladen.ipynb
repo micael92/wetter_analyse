{
 "cells": [
  {
   "cell_type": "markdown",
   "metadata": {},
   "source": [
    "### Herunterladen der Wetterdaten für die zehn definierten Orte\n",
    "\n",
    "- Downloadfunktion und Ortsliste definieren\n",
    "- Daten für jeden Ort herunterladen und entpacken\n",
    "- Den Pfad für die einzelnen Wetterdateien speichern in datei_liste.txt"
   ]
  },
  {
   "cell_type": "code",
   "execution_count": 4,
   "metadata": {},
   "outputs": [],
   "source": [
    "import requests\n",
    "import zipfile\n",
    "import io\n",
    "import os\n",
    "\n",
    "def search_for_link(url: str, search_text: str) -> str:\n",
    "    response = requests.get(url)\n",
    "    if response.status_code == 200:\n",
    "        content = response.text\n",
    "        found_index = content.find(search_text)\n",
    "        if found_index != -1:\n",
    "            start_index = content.rfind('\"', 0, found_index)\n",
    "            start_index += 1\n",
    "            end_index = content.find('\"', found_index)\n",
    "            link = content[start_index:end_index]\n",
    "            return link\n",
    "    return \"search_text not found\"\n",
    "\n",
    "cdc_historical_index_url = \"https://opendata.dwd.de/climate_environment/CDC/observations_germany/climate/daily/kl/historical/\"\n",
    "cdc_recent_index_url = \"https://opendata.dwd.de/climate_environment/CDC/observations_germany/climate/daily/kl/recent/\"\n",
    "\n",
    "orte = [\n",
    "    [\"00856\", \"Chieming\"],\n",
    "    [\"00891\", \"Cuxhaven\"],\n",
    "    [\"01346\", \"Feldberg/Schwarzwald\"],\n",
    "    [\"02290\", \"Hohenpeißenberg\"],\n",
    "    [\"02712\", \"Konstanz\"],\n",
    "    [\"03631\", \"Norderney\"],\n",
    "    [\"03730\", \"Oberstdorf\"],\n",
    "    [\"03987\", \"Potsdam\"],\n",
    "    [\"04271\", \"Rostock-Warnemünde\"],\n",
    "    [\"04625\", \"Schwerin\"]]"
   ]
  },
  {
   "cell_type": "code",
   "execution_count": 5,
   "metadata": {},
   "outputs": [],
   "source": [
    "# Finden und Downloaden der Daten\n",
    "ortsdaten_paths = []\n",
    "\n",
    "for ort in orte:\n",
    "    # Link finden\n",
    "    file_name = search_for_link(cdc_historical_index_url, ort[0])\n",
    "    link = cdc_historical_index_url + file_name\n",
    "\n",
    "    # Downloaden\n",
    "    response = requests.get(link)\n",
    "    zip_file = zipfile.ZipFile(io.BytesIO(response.content))\n",
    "\n",
    "    # Entpacken\n",
    "    foldername = link.split(\"/\")[-1].split(\".\")[0]\n",
    "    path = \"datasets/orte/\" + foldername\n",
    "    zip_file.extractall(path)\n",
    "    zip_file.close()\n",
    "\n",
    "    ortsdaten_paths.append(path)"
   ]
  },
  {
   "cell_type": "code",
   "execution_count": 6,
   "metadata": {},
   "outputs": [
    {
     "name": "stdout",
     "output_type": "stream",
     "text": [
      "datasets/orte/tageswerte_KL_00856_19980101_20231231_hist/produkt_klima_tag_19980101_20231231_00856.txt\n",
      "datasets/orte/tageswerte_KL_00891_19460101_20231231_hist/produkt_klima_tag_19460101_20231231_00891.txt\n",
      "datasets/orte/tageswerte_KL_01346_19450101_20231231_hist/produkt_klima_tag_19450101_20231231_01346.txt\n",
      "datasets/orte/tageswerte_KL_02290_17810101_20231231_hist/produkt_klima_tag_17810101_20231231_02290.txt\n",
      "datasets/orte/tageswerte_KL_02712_19590701_20231231_hist/produkt_klima_tag_19590701_20231231_02712.txt\n",
      "datasets/orte/tageswerte_KL_03631_18580301_20231231_hist/produkt_klima_tag_18580301_20231231_03631.txt\n",
      "datasets/orte/tageswerte_KL_03730_19100101_20231231_hist/produkt_klima_tag_19100101_20231231_03730.txt\n",
      "datasets/orte/tageswerte_KL_03987_18930101_20231231_hist/produkt_klima_tag_18930101_20231231_03987.txt\n",
      "datasets/orte/tageswerte_KL_04271_19470101_20231231_hist/produkt_klima_tag_19470101_20231231_04271.txt\n",
      "datasets/orte/tageswerte_KL_04625_18900101_20231231_hist/produkt_klima_tag_18900101_20231231_04625.txt\n"
     ]
    }
   ],
   "source": [
    "# Datei Liste mit den Pfaden für die Klimadatei jedes Ortes erstellen\n",
    "with open(\"datasets/orte/datei_liste.txt\", \"w\") as file:\n",
    "    file.truncate(0)\n",
    "\n",
    "# produkt_klima_tag Datei in jedem Pfad finden\n",
    "found_paths = []\n",
    "for path in ortsdaten_paths:\n",
    "    for root, dirs, files in os.walk(path):\n",
    "        for file in files:\n",
    "            if file.startswith(\"produkt\") and len(file) > len(\"produkt\"):\n",
    "                found_paths.append(os.path.join(root, file))\n",
    "\n",
    "# Pfad in datei_liste.txt schreiben\n",
    "for path in found_paths:\n",
    "    print(path)\n",
    "    with open(\"datasets/orte/datei_liste.txt\", \"a\") as file:\n",
    "        file.write(path + \"\\n\")"
   ]
  }
 ],
 "metadata": {
  "kernelspec": {
   "display_name": "Python 3",
   "language": "python",
   "name": "python3"
  },
  "language_info": {
   "codemirror_mode": {
    "name": "ipython",
    "version": 3
   },
   "file_extension": ".py",
   "mimetype": "text/x-python",
   "name": "python",
   "nbconvert_exporter": "python",
   "pygments_lexer": "ipython3",
   "version": "3.10.12"
  }
 },
 "nbformat": 4,
 "nbformat_minor": 2
}
