{
 "cells": [
  {
   "cell_type": "markdown",
   "metadata": {},
   "source": [
    "### Finden aller potenzieller Orte für die Analyse\n",
    "\n",
    "- liest die CSV mit allen Wetterstationen ein\n",
    "- erstellt ein subset mit allen Wetterstationen für die Daten der letzten 10 Jahre vorliegen\n",
    "- erzeugt daraus die Datei stations.txt "
   ]
  },
  {
   "cell_type": "code",
   "execution_count": 1,
   "metadata": {
    "vscode": {
     "languageId": "r"
    }
   },
   "outputs": [
    {
     "name": "stdout",
     "output_type": "stream",
     "text": [
      "[1] \"Anzahl aller Orte: 1359\"\n"
     ]
    },
    {
     "data": {
      "text/html": [
       "<table class=\"dataframe\">\n",
       "<caption>A data.frame: 6 × 8</caption>\n",
       "<thead>\n",
       "\t<tr><th></th><th scope=col>Stations_id</th><th scope=col>von_datum</th><th scope=col>bis_datum</th><th scope=col>Stationshoehe</th><th scope=col>geoBreite</th><th scope=col>geoLaenge</th><th scope=col>Stationsname</th><th scope=col>Bundesland</th></tr>\n",
       "\t<tr><th></th><th scope=col>&lt;int&gt;</th><th scope=col>&lt;date&gt;</th><th scope=col>&lt;date&gt;</th><th scope=col>&lt;int&gt;</th><th scope=col>&lt;dbl&gt;</th><th scope=col>&lt;dbl&gt;</th><th scope=col>&lt;chr&gt;</th><th scope=col>&lt;chr&gt;</th></tr>\n",
       "</thead>\n",
       "<tbody>\n",
       "\t<tr><th scope=row>1</th><td> 1</td><td>1937-01-01</td><td>1986-06-30</td><td>478</td><td>47.8413</td><td> 8.8493</td><td>Aach                      </td><td>Baden-Württemberg  </td></tr>\n",
       "\t<tr><th scope=row>2</th><td> 3</td><td>1891-01-01</td><td>2011-03-31</td><td>202</td><td>50.7827</td><td> 6.0941</td><td>Aachen                    </td><td>Nordrhein-Westfalen</td></tr>\n",
       "\t<tr><th scope=row>3</th><td>11</td><td>1980-09-01</td><td>2024-04-09</td><td>680</td><td>47.9736</td><td> 8.5205</td><td>Donaueschingen(Landeplatz)</td><td>Baden-Württemberg  </td></tr>\n",
       "\t<tr><th scope=row>4</th><td>44</td><td>1969-01-01</td><td>2024-04-09</td><td> 44</td><td>52.9336</td><td> 8.2370</td><td>Großenkneten              </td><td>Niedersachsen      </td></tr>\n",
       "\t<tr><th scope=row>5</th><td>52</td><td>1969-01-01</td><td>2001-12-31</td><td> 46</td><td>53.6623</td><td>10.1990</td><td>Ahrensburg-Wulfsdorf      </td><td>Schleswig-Holstein </td></tr>\n",
       "\t<tr><th scope=row>6</th><td>61</td><td>1975-07-01</td><td>1978-08-31</td><td>339</td><td>48.8443</td><td>12.6171</td><td>Aiterhofen                </td><td>Bayern             </td></tr>\n",
       "</tbody>\n",
       "</table>\n"
      ],
      "text/latex": [
       "A data.frame: 6 × 8\n",
       "\\begin{tabular}{r|llllllll}\n",
       "  & Stations\\_id & von\\_datum & bis\\_datum & Stationshoehe & geoBreite & geoLaenge & Stationsname & Bundesland\\\\\n",
       "  & <int> & <date> & <date> & <int> & <dbl> & <dbl> & <chr> & <chr>\\\\\n",
       "\\hline\n",
       "\t1 &  1 & 1937-01-01 & 1986-06-30 & 478 & 47.8413 &  8.8493 & Aach                       & Baden-Württemberg  \\\\\n",
       "\t2 &  3 & 1891-01-01 & 2011-03-31 & 202 & 50.7827 &  6.0941 & Aachen                     & Nordrhein-Westfalen\\\\\n",
       "\t3 & 11 & 1980-09-01 & 2024-04-09 & 680 & 47.9736 &  8.5205 & Donaueschingen(Landeplatz) & Baden-Württemberg  \\\\\n",
       "\t4 & 44 & 1969-01-01 & 2024-04-09 &  44 & 52.9336 &  8.2370 & Großenkneten               & Niedersachsen      \\\\\n",
       "\t5 & 52 & 1969-01-01 & 2001-12-31 &  46 & 53.6623 & 10.1990 & Ahrensburg-Wulfsdorf       & Schleswig-Holstein \\\\\n",
       "\t6 & 61 & 1975-07-01 & 1978-08-31 & 339 & 48.8443 & 12.6171 & Aiterhofen                 & Bayern             \\\\\n",
       "\\end{tabular}\n"
      ],
      "text/markdown": [
       "\n",
       "A data.frame: 6 × 8\n",
       "\n",
       "| <!--/--> | Stations_id &lt;int&gt; | von_datum &lt;date&gt; | bis_datum &lt;date&gt; | Stationshoehe &lt;int&gt; | geoBreite &lt;dbl&gt; | geoLaenge &lt;dbl&gt; | Stationsname &lt;chr&gt; | Bundesland &lt;chr&gt; |\n",
       "|---|---|---|---|---|---|---|---|---|\n",
       "| 1 |  1 | 1937-01-01 | 1986-06-30 | 478 | 47.8413 |  8.8493 | Aach                       | Baden-Württemberg   |\n",
       "| 2 |  3 | 1891-01-01 | 2011-03-31 | 202 | 50.7827 |  6.0941 | Aachen                     | Nordrhein-Westfalen |\n",
       "| 3 | 11 | 1980-09-01 | 2024-04-09 | 680 | 47.9736 |  8.5205 | Donaueschingen(Landeplatz) | Baden-Württemberg   |\n",
       "| 4 | 44 | 1969-01-01 | 2024-04-09 |  44 | 52.9336 |  8.2370 | Großenkneten               | Niedersachsen       |\n",
       "| 5 | 52 | 1969-01-01 | 2001-12-31 |  46 | 53.6623 | 10.1990 | Ahrensburg-Wulfsdorf       | Schleswig-Holstein  |\n",
       "| 6 | 61 | 1975-07-01 | 1978-08-31 | 339 | 48.8443 | 12.6171 | Aiterhofen                 | Bayern              |\n",
       "\n"
      ],
      "text/plain": [
       "  Stations_id von_datum  bis_datum  Stationshoehe geoBreite geoLaenge\n",
       "1  1          1937-01-01 1986-06-30 478           47.8413    8.8493  \n",
       "2  3          1891-01-01 2011-03-31 202           50.7827    6.0941  \n",
       "3 11          1980-09-01 2024-04-09 680           47.9736    8.5205  \n",
       "4 44          1969-01-01 2024-04-09  44           52.9336    8.2370  \n",
       "5 52          1969-01-01 2001-12-31  46           53.6623   10.1990  \n",
       "6 61          1975-07-01 1978-08-31 339           48.8443   12.6171  \n",
       "  Stationsname               Bundesland         \n",
       "1 Aach                       Baden-Württemberg  \n",
       "2 Aachen                     Nordrhein-Westfalen\n",
       "3 Donaueschingen(Landeplatz) Baden-Württemberg  \n",
       "4 Großenkneten               Niedersachsen      \n",
       "5 Ahrensburg-Wulfsdorf       Schleswig-Holstein \n",
       "6 Aiterhofen                 Bayern             "
      ]
     },
     "metadata": {},
     "output_type": "display_data"
    },
    {
     "data": {
      "text/plain": [
       "  Stations_id      von_datum            bis_datum          Stationshoehe   \n",
       " Min.   :    1   Min.   :1781-01-01   Min.   :1915-12-31   Min.   :   0.0  \n",
       " 1st Qu.: 1509   1st Qu.:1947-03-16   1st Qu.:1991-07-15   1st Qu.:  77.0  \n",
       " Median : 3257   Median :1961-01-01   Median :2007-08-31   Median : 250.0  \n",
       " Mean   : 3905   Mean   :1964-04-25   Mean   :2004-12-30   Mean   : 303.4  \n",
       " 3rd Qu.: 5091   3rd Qu.:1986-10-16   3rd Qu.:2024-04-09   3rd Qu.: 455.0  \n",
       " Max.   :19911   Max.   :2024-01-01   Max.   :2024-04-09   Max.   :2956.0  \n",
       "   geoBreite       geoLaenge      Stationsname        Bundesland       \n",
       " Min.   :47.40   Min.   : 6.024   Length:1359        Length:1359       \n",
       " 1st Qu.:49.03   1st Qu.: 8.464   Class :character   Class :character  \n",
       " Median :50.57   Median : 9.865   Mode  :character   Mode  :character  \n",
       " Mean   :50.65   Mean   :10.023                                        \n",
       " 3rd Qu.:51.96   3rd Qu.:11.497                                        \n",
       " Max.   :55.01   Max.   :14.951                                        "
      ]
     },
     "metadata": {},
     "output_type": "display_data"
    }
   ],
   "source": [
    "# Liste mit allen Wetterstationen laden\n",
    "orte <- read.table(\"datasets/KL_Tageswerte_Beschreibung_Stationen_UTF8.csv\", header = TRUE, sep=\",\", fill = FALSE, fileEncoding = \"UTF-8\")\n",
    "orte$von_datum <- as.Date(as.character(orte$von_datum), format = \"%Y%m%d\")\n",
    "orte$bis_datum <- as.Date(as.character(orte$bis_datum), format = \"%Y%m%d\")\n",
    "\n",
    "# Anzahl der Orte ausgeben, Liste der Wetterstationen anzeigen und zusammenfassende Statistik\n",
    "print(paste(\"Anzahl aller Orte:\", nrow(orte)))\n",
    "head(orte)\n",
    "summary(orte)"
   ]
  },
  {
   "cell_type": "code",
   "execution_count": 2,
   "metadata": {
    "vscode": {
     "languageId": "r"
    }
   },
   "outputs": [
    {
     "data": {
      "text/html": [
       "<table class=\"dataframe\">\n",
       "<caption>A data.frame: 6 × 8</caption>\n",
       "<thead>\n",
       "\t<tr><th></th><th scope=col>Stations_id</th><th scope=col>von_datum</th><th scope=col>bis_datum</th><th scope=col>Stationshoehe</th><th scope=col>geoBreite</th><th scope=col>geoLaenge</th><th scope=col>Stationsname</th><th scope=col>Bundesland</th></tr>\n",
       "\t<tr><th></th><th scope=col>&lt;int&gt;</th><th scope=col>&lt;date&gt;</th><th scope=col>&lt;date&gt;</th><th scope=col>&lt;int&gt;</th><th scope=col>&lt;dbl&gt;</th><th scope=col>&lt;dbl&gt;</th><th scope=col>&lt;chr&gt;</th><th scope=col>&lt;chr&gt;</th></tr>\n",
       "</thead>\n",
       "<tbody>\n",
       "\t<tr><th scope=row>3</th><td>11</td><td>1980-09-01</td><td>2024-04-09</td><td>680</td><td>47.9736</td><td> 8.5205</td><td>Donaueschingen(Landeplatz)</td><td>Baden-Württemberg</td></tr>\n",
       "\t<tr><th scope=row>4</th><td>44</td><td>1969-01-01</td><td>2024-04-09</td><td> 44</td><td>52.9336</td><td> 8.2370</td><td>Großenkneten              </td><td>Niedersachsen    </td></tr>\n",
       "\t<tr><th scope=row>8</th><td>71</td><td>1986-11-01</td><td>2019-12-31</td><td>759</td><td>48.2156</td><td> 8.9784</td><td>Albstadt-Badkap           </td><td>Baden-Württemberg</td></tr>\n",
       "\t<tr><th scope=row>10</th><td>73</td><td>1959-03-01</td><td>2024-04-09</td><td>374</td><td>48.6183</td><td>13.0620</td><td>Aldersbach-Kramersepp     </td><td>Bayern           </td></tr>\n",
       "\t<tr><th scope=row>11</th><td>78</td><td>1961-01-01</td><td>2024-04-09</td><td> 64</td><td>52.4853</td><td> 7.9125</td><td>Alfhausen                 </td><td>Niedersachsen    </td></tr>\n",
       "\t<tr><th scope=row>12</th><td>90</td><td>1988-02-19</td><td>2024-04-09</td><td>305</td><td>50.7557</td><td> 9.2583</td><td>Alsfeld                   </td><td>Hessen           </td></tr>\n",
       "</tbody>\n",
       "</table>\n"
      ],
      "text/latex": [
       "A data.frame: 6 × 8\n",
       "\\begin{tabular}{r|llllllll}\n",
       "  & Stations\\_id & von\\_datum & bis\\_datum & Stationshoehe & geoBreite & geoLaenge & Stationsname & Bundesland\\\\\n",
       "  & <int> & <date> & <date> & <int> & <dbl> & <dbl> & <chr> & <chr>\\\\\n",
       "\\hline\n",
       "\t3 & 11 & 1980-09-01 & 2024-04-09 & 680 & 47.9736 &  8.5205 & Donaueschingen(Landeplatz) & Baden-Württemberg\\\\\n",
       "\t4 & 44 & 1969-01-01 & 2024-04-09 &  44 & 52.9336 &  8.2370 & Großenkneten               & Niedersachsen    \\\\\n",
       "\t8 & 71 & 1986-11-01 & 2019-12-31 & 759 & 48.2156 &  8.9784 & Albstadt-Badkap            & Baden-Württemberg\\\\\n",
       "\t10 & 73 & 1959-03-01 & 2024-04-09 & 374 & 48.6183 & 13.0620 & Aldersbach-Kramersepp      & Bayern           \\\\\n",
       "\t11 & 78 & 1961-01-01 & 2024-04-09 &  64 & 52.4853 &  7.9125 & Alfhausen                  & Niedersachsen    \\\\\n",
       "\t12 & 90 & 1988-02-19 & 2024-04-09 & 305 & 50.7557 &  9.2583 & Alsfeld                    & Hessen           \\\\\n",
       "\\end{tabular}\n"
      ],
      "text/markdown": [
       "\n",
       "A data.frame: 6 × 8\n",
       "\n",
       "| <!--/--> | Stations_id &lt;int&gt; | von_datum &lt;date&gt; | bis_datum &lt;date&gt; | Stationshoehe &lt;int&gt; | geoBreite &lt;dbl&gt; | geoLaenge &lt;dbl&gt; | Stationsname &lt;chr&gt; | Bundesland &lt;chr&gt; |\n",
       "|---|---|---|---|---|---|---|---|---|\n",
       "| 3 | 11 | 1980-09-01 | 2024-04-09 | 680 | 47.9736 |  8.5205 | Donaueschingen(Landeplatz) | Baden-Württemberg |\n",
       "| 4 | 44 | 1969-01-01 | 2024-04-09 |  44 | 52.9336 |  8.2370 | Großenkneten               | Niedersachsen     |\n",
       "| 8 | 71 | 1986-11-01 | 2019-12-31 | 759 | 48.2156 |  8.9784 | Albstadt-Badkap            | Baden-Württemberg |\n",
       "| 10 | 73 | 1959-03-01 | 2024-04-09 | 374 | 48.6183 | 13.0620 | Aldersbach-Kramersepp      | Bayern            |\n",
       "| 11 | 78 | 1961-01-01 | 2024-04-09 |  64 | 52.4853 |  7.9125 | Alfhausen                  | Niedersachsen     |\n",
       "| 12 | 90 | 1988-02-19 | 2024-04-09 | 305 | 50.7557 |  9.2583 | Alsfeld                    | Hessen            |\n",
       "\n"
      ],
      "text/plain": [
       "   Stations_id von_datum  bis_datum  Stationshoehe geoBreite geoLaenge\n",
       "3  11          1980-09-01 2024-04-09 680           47.9736    8.5205  \n",
       "4  44          1969-01-01 2024-04-09  44           52.9336    8.2370  \n",
       "8  71          1986-11-01 2019-12-31 759           48.2156    8.9784  \n",
       "10 73          1959-03-01 2024-04-09 374           48.6183   13.0620  \n",
       "11 78          1961-01-01 2024-04-09  64           52.4853    7.9125  \n",
       "12 90          1988-02-19 2024-04-09 305           50.7557    9.2583  \n",
       "   Stationsname               Bundesland       \n",
       "3  Donaueschingen(Landeplatz) Baden-Württemberg\n",
       "4  Großenkneten               Niedersachsen    \n",
       "8  Albstadt-Badkap            Baden-Württemberg\n",
       "10 Aldersbach-Kramersepp      Bayern           \n",
       "11 Alfhausen                  Niedersachsen    \n",
       "12 Alsfeld                    Hessen           "
      ]
     },
     "metadata": {},
     "output_type": "display_data"
    },
    {
     "name": "stdout",
     "output_type": "stream",
     "text": [
      "[1] \"Anzahl der Orte im Zeitraum 2014-2024: 604\"\n"
     ]
    }
   ],
   "source": [
    "# Zeitraum definieren\n",
    "start_datum <- as.Date(\"2014-01-01\")\n",
    "ende_datum <- as.Date(\"2023-12-31\")\n",
    "\n",
    "# Subset der Wetterstationen für den 10 Jahres Zeitraum erstellen\n",
    "orte_subset <- subset(orte, von_datum <= ende_datum & bis_datum >= start_datum)\n",
    "\n",
    "# Anzahl der Orte im Zeitraum 2014-2024 ausgeben\n",
    "head(orte_subset)\n",
    "print(paste(\"Anzahl der Orte im Zeitraum 2014-2024:\", nrow(orte_subset)))\n"
   ]
  },
  {
   "cell_type": "code",
   "execution_count": 3,
   "metadata": {
    "vscode": {
     "languageId": "r"
    }
   },
   "outputs": [],
   "source": [
    "# Liste der Wetterstationen in eine Textdatei schreiben und speichern\n",
    "station_names <- orte_subset$Stationsname\n",
    "writeLines(station_names, \"datasets/stations.txt\")"
   ]
  }
 ],
 "metadata": {
  "kernelspec": {
   "display_name": "R",
   "language": "R",
   "name": "ir"
  },
  "language_info": {
   "codemirror_mode": "r",
   "file_extension": ".r",
   "mimetype": "text/x-r-source",
   "name": "R",
   "pygments_lexer": "r",
   "version": "4.1.2"
  }
 },
 "nbformat": 4,
 "nbformat_minor": 2
}
