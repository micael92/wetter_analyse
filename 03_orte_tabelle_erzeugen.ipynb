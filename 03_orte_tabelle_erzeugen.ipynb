{
 "cells": [
  {
   "cell_type": "markdown",
   "metadata": {},
   "source": [
    "### Sucht die gewählten Orte aus der Stationsliste raus\n",
    "\n",
    "- Erzeugt nur die Tabelle 1 in der Hausarbeit\n",
    "- kann vllt weg\n"
   ]
  },
  {
   "cell_type": "code",
   "execution_count": 3,
   "metadata": {
    "vscode": {
     "languageId": "r"
    }
   },
   "outputs": [
    {
     "name": "stdout",
     "output_type": "stream",
     "text": [
      "[1] \"Anzahl aller Orte: 1359\"\n"
     ]
    }
   ],
   "source": [
    "# load stations list\n",
    "orte <- read.table(\"datasets/KL_Tageswerte_Beschreibung_Stationen_UTF8.csv\", header = TRUE, sep=\",\", fill = TRUE, fileEncoding = \"UTF-8\")\n",
    "print(paste(\"Anzahl aller Orte:\", nrow(orte)))"
   ]
  },
  {
   "cell_type": "code",
   "execution_count": 4,
   "metadata": {
    "vscode": {
     "languageId": "r"
    }
   },
   "outputs": [
    {
     "data": {
      "text/html": [
       "<table class=\"dataframe\">\n",
       "<caption>A data.frame: 10 × 2</caption>\n",
       "<thead>\n",
       "\t<tr><th></th><th scope=col>Stations_id</th><th scope=col>Stationsname</th></tr>\n",
       "\t<tr><th></th><th scope=col>&lt;int&gt;</th><th scope=col>&lt;chr&gt;</th></tr>\n",
       "</thead>\n",
       "<tbody>\n",
       "\t<tr><th scope=row>190</th><td> 856</td><td>Chieming            </td></tr>\n",
       "\t<tr><th scope=row>200</th><td> 891</td><td>Cuxhaven            </td></tr>\n",
       "\t<tr><th scope=row>301</th><td>1346</td><td>Feldberg/Schwarzwald</td></tr>\n",
       "\t<tr><th scope=row>470</th><td>2290</td><td>Hohenpeißenberg     </td></tr>\n",
       "\t<tr><th scope=row>562</th><td>2712</td><td>Konstanz            </td></tr>\n",
       "\t<tr><th scope=row>751</th><td>3631</td><td>Norderney           </td></tr>\n",
       "\t<tr><th scope=row>771</th><td>3730</td><td>Oberstdorf          </td></tr>\n",
       "\t<tr><th scope=row>816</th><td>3987</td><td>Potsdam             </td></tr>\n",
       "\t<tr><th scope=row>855</th><td>4271</td><td>Rostock-Warnemünde  </td></tr>\n",
       "\t<tr><th scope=row>942</th><td>4625</td><td>Schwerin            </td></tr>\n",
       "</tbody>\n",
       "</table>\n"
      ],
      "text/latex": [
       "A data.frame: 10 × 2\n",
       "\\begin{tabular}{r|ll}\n",
       "  & Stations\\_id & Stationsname\\\\\n",
       "  & <int> & <chr>\\\\\n",
       "\\hline\n",
       "\t190 &  856 & Chieming            \\\\\n",
       "\t200 &  891 & Cuxhaven            \\\\\n",
       "\t301 & 1346 & Feldberg/Schwarzwald\\\\\n",
       "\t470 & 2290 & Hohenpeißenberg     \\\\\n",
       "\t562 & 2712 & Konstanz            \\\\\n",
       "\t751 & 3631 & Norderney           \\\\\n",
       "\t771 & 3730 & Oberstdorf          \\\\\n",
       "\t816 & 3987 & Potsdam             \\\\\n",
       "\t855 & 4271 & Rostock-Warnemünde  \\\\\n",
       "\t942 & 4625 & Schwerin            \\\\\n",
       "\\end{tabular}\n"
      ],
      "text/markdown": [
       "\n",
       "A data.frame: 10 × 2\n",
       "\n",
       "| <!--/--> | Stations_id &lt;int&gt; | Stationsname &lt;chr&gt; |\n",
       "|---|---|---|\n",
       "| 190 |  856 | Chieming             |\n",
       "| 200 |  891 | Cuxhaven             |\n",
       "| 301 | 1346 | Feldberg/Schwarzwald |\n",
       "| 470 | 2290 | Hohenpeißenberg      |\n",
       "| 562 | 2712 | Konstanz             |\n",
       "| 751 | 3631 | Norderney            |\n",
       "| 771 | 3730 | Oberstdorf           |\n",
       "| 816 | 3987 | Potsdam              |\n",
       "| 855 | 4271 | Rostock-Warnemünde   |\n",
       "| 942 | 4625 | Schwerin             |\n",
       "\n"
      ],
      "text/plain": [
       "    Stations_id Stationsname        \n",
       "190  856        Chieming            \n",
       "200  891        Cuxhaven            \n",
       "301 1346        Feldberg/Schwarzwald\n",
       "470 2290        Hohenpeißenberg     \n",
       "562 2712        Konstanz            \n",
       "751 3631        Norderney           \n",
       "771 3730        Oberstdorf          \n",
       "816 3987        Potsdam             \n",
       "855 4271        Rostock-Warnemünde  \n",
       "942 4625        Schwerin            "
      ]
     },
     "metadata": {},
     "output_type": "display_data"
    }
   ],
   "source": [
    "gewaehlte_orte <- subset(\n",
    "    orte, \n",
    "    Stationsname %in% c(\n",
    "        \"Cuxhaven\",\n",
    "        \"Norderney\",\n",
    "        \"Rostock-Warnemünde\",\n",
    "        \"Konstanz\",\n",
    "        \"Potsdam\",\n",
    "        \"Schwerin\",\n",
    "        \"Chieming\",\n",
    "        \"Hohenpeißenberg\",\n",
    "        \"Feldberg/Schwarzwald\",\n",
    "        \"Oberstdorf\"))\n",
    "\n",
    "\n",
    "gewaehlte_orte[order(gewaehlte_orte$Stationsname), c(\"Stations_id\", \"Stationsname\")]"
   ]
  }
 ],
 "metadata": {
  "kernelspec": {
   "display_name": "R",
   "language": "R",
   "name": "ir"
  },
  "language_info": {
   "codemirror_mode": "r",
   "file_extension": ".r",
   "mimetype": "text/x-r-source",
   "name": "R",
   "pygments_lexer": "r",
   "version": "4.1.2"
  }
 },
 "nbformat": 4,
 "nbformat_minor": 2
}
