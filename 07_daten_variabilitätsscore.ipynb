{
 "cells": [
  {
   "cell_type": "markdown",
   "metadata": {},
   "source": [
    "### Variabilitätsscore berechnen"
   ]
  },
  {
   "cell_type": "code",
   "execution_count": 2,
   "metadata": {
    "vscode": {
     "languageId": "r"
    }
   },
   "outputs": [],
   "source": [
    "# Daten einlesen\n",
    "\n",
    "wetterdaten <- readRDS(\"datasets/rds/wetterdaten.rds\")"
   ]
  },
  {
   "cell_type": "code",
   "execution_count": 3,
   "metadata": {
    "vscode": {
     "languageId": "r"
    }
   },
   "outputs": [],
   "source": [
    "# Verschiedene Informationen zu den Dateien anzeigen\n",
    "# durch entfernen der Kommentarzeichen können die einzelnen Informationen ausgegeben werden\n",
    "\n",
    "for (i in seq_along(wetterdaten)) {\n",
    "  #print(names(wetterdaten)[i])\n",
    "  #print(paste(\"Anzahl der Zeilen\", names(wetterdaten[i]), \": \", nrow(wetterdaten[[i]])))\n",
    "  #print(summary(wetterdaten[[i]]))\n",
    "  #print(head(wetterdaten[[1]]))\n",
    "  #print(nrow(wetterdaten[[1]]))\n",
    "  #boxplot(wetterdaten[[i]]$TMK, main = names(wetterdaten)[i])\n",
    "  #print(subset(wetterdaten[[i]], RSK > 400.0 | RSK < 0.0))\n",
    "  #print(subset(wetterdaten[[i]], SDK > 24 | SDK < 0))\n",
    "  #print(subset(wetterdaten[[i]], TMK > 60 | TMK < -60))\n",
    "  #plot(wetterdaten[[i]]$MESS_DATUM, wetterdaten[[i]]$TMK, type = \"l\", col = \"blue\", xlab = \"Datum\", ylab = \"Temperatur\", main = names(wetterdaten)[i])\n",
    "  #boxplot(wetterdaten[[i]]$TMK, main = names(wetterdaten)[i])\n",
    "  #break\n",
    "}"
   ]
  },
  {
   "cell_type": "code",
   "execution_count": 4,
   "metadata": {
    "vscode": {
     "languageId": "r"
    }
   },
   "outputs": [
    {
     "name": "stdout",
     "output_type": "stream",
     "text": [
      "      Varianz_RSK Stda_RSK Varianz_SDK Stda_SDK Varianz_TMK Stda_TMK\n",
      " [1,]    39.06270 6.250016    21.71427 4.659858    54.41073 7.376363\n",
      " [2,]    19.18963 4.380597    19.73699 4.442633    37.61751 6.133311\n",
      " [3,]    79.90281 8.938837    20.05801 4.478617    50.34378 7.095335\n",
      " [4,]    50.11535 7.079220    21.28061 4.613091    55.95097 7.480038\n",
      " [5,]    31.45721 5.608673    22.05088 4.695837    54.35087 7.372305\n",
      " [6,]    16.42201 4.052408    20.77976 4.558483    33.75741 5.810113\n",
      " [7,]    77.30649 8.792411    16.39719 4.049344    56.84773 7.539743\n",
      " [8,]    16.99618 4.122642    21.23359 4.607992    56.47594 7.515048\n",
      " [9,]    14.38721 3.793048    23.10893 4.807175    42.68266 6.533197\n",
      "[10,]    14.38272 3.792455    19.78939 4.448527    48.66625 6.976120\n"
     ]
    }
   ],
   "source": [
    "# Matrix für Standardabweichung (6 Spalten, n Zeilen)\n",
    "n <- length(wetterdaten)\n",
    "ergebnis_matrix <- matrix(numeric(n * 6), nrow = n, ncol = 6)\n",
    "\n",
    "# Benenne die Spalten der Matrix\n",
    "colnames(ergebnis_matrix) <- c(\"Varianz_RSK\", \"Stda_RSK\", \n",
    "                               \"Varianz_SDK\", \"Stda_SDK\", \n",
    "                               \"Varianz_TMK\", \"Stda_TMK\")\n",
    "\n",
    "for (i in seq_along(wetterdaten)) {\n",
    "  ergebnis_matrix[i, 1] <- var(wetterdaten[[i]]$RSK, na.rm = TRUE)\n",
    "  ergebnis_matrix[i, 2] <- sqrt(ergebnis_matrix[i, 1])\n",
    "  \n",
    "  ergebnis_matrix[i, 3] <- var(wetterdaten[[i]]$SDK, na.rm = TRUE)\n",
    "  ergebnis_matrix[i, 4] <- sqrt(ergebnis_matrix[i, 3])\n",
    "  \n",
    "  ergebnis_matrix[i, 5] <- var(wetterdaten[[i]]$TMK, na.rm = TRUE)\n",
    "  ergebnis_matrix[i, 6] <- sqrt(ergebnis_matrix[i, 5])\n",
    "}\n",
    "print(ergebnis_matrix)\n"
   ]
  },
  {
   "cell_type": "code",
   "execution_count": 5,
   "metadata": {
    "vscode": {
     "languageId": "r"
    }
   },
   "outputs": [
    {
     "name": "stdout",
     "output_type": "stream",
     "text": [
      "   Varianz_RSK Stda_RSK Varianz_SDK Stda_SDK Varianz_TMK Stda_TMK\n",
      "1     39.06270 6.250016    21.71427 4.659858    54.41073 7.376363\n",
      "2     19.18963 4.380597    19.73699 4.442633    37.61751 6.133311\n",
      "3     79.90281 8.938837    20.05801 4.478617    50.34378 7.095335\n",
      "4     50.11535 7.079220    21.28061 4.613091    55.95097 7.480038\n",
      "5     31.45721 5.608673    22.05088 4.695837    54.35087 7.372305\n",
      "6     16.42201 4.052408    20.77976 4.558483    33.75741 5.810113\n",
      "7     77.30649 8.792411    16.39719 4.049344    56.84773 7.539743\n",
      "8     16.99618 4.122642    21.23359 4.607992    56.47594 7.515048\n",
      "9     14.38721 3.793048    23.10893 4.807175    42.68266 6.533197\n",
      "10    14.38272 3.792455    19.78939 4.448527    48.66625 6.976120\n"
     ]
    }
   ],
   "source": [
    "ergebnis_df <- as.data.frame(ergebnis_matrix)\n",
    "print(ergebnis_df)"
   ]
  },
  {
   "cell_type": "code",
   "execution_count": null,
   "metadata": {
    "vscode": {
     "languageId": "r"
    }
   },
   "outputs": [],
   "source": []
  }
 ],
 "metadata": {
  "kernelspec": {
   "display_name": "R",
   "language": "R",
   "name": "ir"
  },
  "language_info": {
   "codemirror_mode": "r",
   "file_extension": ".r",
   "mimetype": "text/x-r-source",
   "name": "R",
   "pygments_lexer": "r",
   "version": "4.1.2"
  }
 },
 "nbformat": 4,
 "nbformat_minor": 2
}
