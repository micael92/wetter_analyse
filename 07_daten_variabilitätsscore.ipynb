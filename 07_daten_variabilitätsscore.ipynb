{
 "cells": [
  {
   "cell_type": "markdown",
   "metadata": {},
   "source": [
    "### Variabilitätsscore berechnen"
   ]
  },
  {
   "cell_type": "code",
   "execution_count": 2,
   "metadata": {
    "vscode": {
     "languageId": "r"
    }
   },
   "outputs": [],
   "source": [
    "# Daten einlesen\n",
    "\n",
    "wetterdaten <- readRDS(\"datasets/rds/wetterdaten.rds\")"
   ]
  },
  {
   "cell_type": "code",
   "execution_count": 3,
   "metadata": {
    "vscode": {
     "languageId": "r"
    }
   },
   "outputs": [
    {
     "name": "stdout",
     "output_type": "stream",
     "text": [
      "      id                 name STDA_RSK STDA_SDK STDA_TMK\n",
      "1  00856             Chieming 6.250016 4.659858 7.376363\n",
      "2  00891             Cuxhaven 4.380597 4.442633 6.133311\n",
      "3  01346 Feldberg/Schwarzwald 8.938837 4.478617 7.095335\n",
      "4  02290      Hohenpeißenberg 7.079220 4.613091 7.480038\n",
      "5  02712             Konstanz 5.608673 4.695837 7.372305\n",
      "6  03631            Norderney 4.052408 4.558483 5.810113\n",
      "7  03730           Oberstdorf 8.792411 4.049344 7.539743\n",
      "8  03987              Potsdam 4.122642 4.607992 7.515048\n",
      "9  04271   Rostock-Warnemünde 3.793048 4.807175 6.533197\n",
      "10 04625             Schwerin 3.792455 4.448527 6.976120\n"
     ]
    }
   ],
   "source": [
    "# Initialisiere einen Dataframe für die Standardabweichungen\n",
    "\n",
    "n <- length(wetterdaten)\n",
    "standardabweichungen_df <- data.frame(\n",
    "  id = c(\"00856\", \"00891\", \"01346\", \"02290\", \"02712\", \"03631\", \"03730\", \"03987\", \"04271\", \"04625\"),\n",
    "  name = c(\"Chieming\", \"Cuxhaven\", \"Feldberg/Schwarzwald\", \"Hohenpeißenberg\", \"Konstanz\", \"Norderney\", \"Oberstdorf\", \"Potsdam\", \"Rostock-Warnemünde\", \"Schwerin\"),\n",
    "  STDA_RSK = numeric(n),\n",
    "  STDA_SDK = numeric(n),\n",
    "  STDA_TMK = numeric(n)\n",
    ")\n",
    "\n",
    "# Führe die Berechnungen für jede Station oder jeden Datensatz in der Liste durch\n",
    "for (i in seq_len(n)) {\n",
    "  standardabweichungen_df$STDA_RSK[i] <- sqrt(var(wetterdaten[[i]]$RSK, na.rm = TRUE))\n",
    "  standardabweichungen_df$STDA_SDK[i] <- sqrt(var(wetterdaten[[i]]$SDK, na.rm = TRUE))\n",
    "  standardabweichungen_df$STDA_TMK[i] <- sqrt(var(wetterdaten[[i]]$TMK, na.rm = TRUE))\n",
    "}\n",
    "\n",
    "# Ausgabe des Dataframes\n",
    "print(standardabweichungen_df)"
   ]
  },
  {
   "cell_type": "code",
   "execution_count": 4,
   "metadata": {
    "vscode": {
     "languageId": "r"
    }
   },
   "outputs": [
    {
     "name": "stdout",
     "output_type": "stream",
     "text": [
      "      id                 name STDA_RSK STDA_SDK STDA_TMK R_norm_STDA_RSK\n",
      "1  00856             Chieming 6.250016 4.659858 7.376363       0.4480379\n",
      "2  00891             Cuxhaven 4.380597 4.442633 6.133311      -0.2191465\n",
      "3  01346 Feldberg/Schwarzwald 8.938837 4.478617 7.095335       1.4076622\n",
      "4  02290      Hohenpeißenberg 7.079220 4.613091 7.480038       0.7439758\n",
      "5  02712             Konstanz 5.608673 4.695837 7.372305       0.2191465\n",
      "6  03631            Norderney 4.052408 4.558483 5.810113      -0.3362752\n",
      "7  03730           Oberstdorf 8.792411 4.049344 7.539743       1.3554034\n",
      "8  03987              Potsdam 4.122642 4.607992 7.515048      -0.3112092\n",
      "9  04271   Rostock-Warnemünde 3.793048 4.807175 6.533197      -0.4288393\n",
      "10 04625             Schwerin 3.792455 4.448527 6.976120      -0.4290508\n",
      "   R_norm_STDA_SDK R_norm_STDA_TMK\n",
      "1        0.3988226       0.1759378\n",
      "2       -0.7318661      -1.3583310\n",
      "3       -0.5445629      -0.1709282\n",
      "4        0.1553962       0.3039012\n",
      "5        0.5861016       0.1709282\n",
      "6       -0.1288514      -1.7572468\n",
      "7       -2.7790025       0.3775936\n",
      "8        0.1288514       0.3471129\n",
      "9        1.1656360      -0.8647620\n",
      "10      -0.7011911      -0.3180725\n"
     ]
    }
   ],
   "source": [
    "# Min-Max Normalisierung der Standardabweichungen\n",
    "#standardabweichungen_df$MM_norm_STDA_RSK <- (standardabweichungen_df$STDA_RSK - min(standardabweichungen_df$STDA_RSK)) / (max(standardabweichungen_df$STDA_RSK) - min(standardabweichungen_df$STDA_RSK))\n",
    "#standardabweichungen_df$MM_norm_STDA_SDK <- (standardabweichungen_df$STDA_SDK - min(standardabweichungen_df$STDA_SDK)) / (max(standardabweichungen_df$STDA_SDK) - min(standardabweichungen_df$STDA_SDK))\n",
    "#standardabweichungen_df$MM_norm_STDA_TMK <- (standardabweichungen_df$STDA_TMK - min(standardabweichungen_df$STDA_TMK)) / (max(standardabweichungen_df$STDA_TMK) - min(standardabweichungen_df$STDA_TMK))\n",
    "\n",
    "# Z-Score Normalisierung der Standardabweichungen\n",
    "#standardabweichungen_df$Z_norm_STDA_RSK <- scale(standardabweichungen_df$STDA_RSK)\n",
    "#standardabweichungen_df$Z_norm_STDA_SDK <- scale(standardabweichungen_df$STDA_SDK)\n",
    "#standardabweichungen_df$Z_norm_STDA_TMK <- scale(standardabweichungen_df$STDA_TMK)\n",
    "\n",
    "# Robuste Normalisierung der Standardabweichungen\n",
    "robust_scale <- function(x) {\n",
    "  iqr <- IQR(x, na.rm = TRUE)\n",
    "  median_x <- median(x, na.rm = TRUE)\n",
    "  (x - median_x) / iqr\n",
    "}\n",
    "standardabweichungen_df$R_norm_STDA_RSK <- robust_scale(standardabweichungen_df$STDA_RSK)\n",
    "standardabweichungen_df$R_norm_STDA_SDK <- robust_scale(standardabweichungen_df$STDA_SDK)\n",
    "standardabweichungen_df$R_norm_STDA_TMK <- robust_scale(standardabweichungen_df$STDA_TMK)\n",
    "\n",
    "print(standardabweichungen_df)"
   ]
  },
  {
   "cell_type": "code",
   "execution_count": 5,
   "metadata": {
    "vscode": {
     "languageId": "r"
    }
   },
   "outputs": [
    {
     "name": "stdout",
     "output_type": "stream",
     "text": [
      "      id                 name STDA_RSK STDA_SDK STDA_TMK R_norm_STDA_RSK\n",
      "5  02712             Konstanz 5.608673 4.695837 7.372305       0.2191465\n",
      "1  00856             Chieming 6.250016 4.659858 7.376363       0.4480379\n",
      "8  03987              Potsdam 4.122642 4.607992 7.515048      -0.3112092\n",
      "4  02290      Hohenpeißenberg 7.079220 4.613091 7.480038       0.7439758\n",
      "10 04625             Schwerin 3.792455 4.448527 6.976120      -0.4290508\n",
      "3  01346 Feldberg/Schwarzwald 8.938837 4.478617 7.095335       1.4076622\n",
      "9  04271   Rostock-Warnemünde 3.793048 4.807175 6.533197      -0.4288393\n",
      "2  00891             Cuxhaven 4.380597 4.442633 6.133311      -0.2191465\n",
      "7  03730           Oberstdorf 8.792411 4.049344 7.539743       1.3554034\n",
      "6  03631            Norderney 4.052408 4.558483 5.810113      -0.3362752\n",
      "   R_norm_STDA_SDK R_norm_STDA_TMK Variabilitaetsscore\n",
      "5        0.5861016       0.1709282           0.2636065\n",
      "1        0.3988226       0.1759378           0.2749348\n",
      "8        0.1288514       0.3471129           0.2962798\n",
      "4        0.1553962       0.3039012           0.3622152\n",
      "10      -0.7011911      -0.3180725           0.4168919\n",
      "3       -0.5445629      -0.1709282           0.4930020\n",
      "9        1.1656360      -0.8647620           0.8377523\n",
      "2       -0.7318661      -1.3583310           1.0052011\n",
      "7       -2.7790025       0.3775936           1.0534374\n",
      "6       -0.1288514      -1.7572468           1.1473734\n"
     ]
    }
   ],
   "source": [
    "# Gewichtungen festlegen\n",
    "gewicht_rsk <- 0.2\n",
    "gewicht_sdk <- 0.2\n",
    "gewicht_tmk <- 0.6\n",
    "\n",
    "# Gewichtete Summe der Absolutwerte\n",
    "standardabweichungen_df$Variabilitaetsscore <- (abs(standardabweichungen_df$R_norm_STDA_RSK) * gewicht_rsk) +\n",
    "                                               (abs(standardabweichungen_df$R_norm_STDA_SDK) * gewicht_sdk) +\n",
    "                                               (abs(standardabweichungen_df$R_norm_STDA_TMK) * gewicht_tmk)\n",
    "\n",
    "print(standardabweichungen_df[order(standardabweichungen_df$Variabilitaetsscore), ])"
   ]
  },
  {
   "cell_type": "code",
   "execution_count": 23,
   "metadata": {
    "vscode": {
     "languageId": "r"
    }
   },
   "outputs": [
    {
     "data": {
      "text/html": [
       "<strong>png:</strong> 2"
      ],
      "text/latex": [
       "\\textbf{png:} 2"
      ],
      "text/markdown": [
       "**png:** 2"
      ],
      "text/plain": [
       "png \n",
       "  2 "
      ]
     },
     "metadata": {},
     "output_type": "display_data"
    }
   ],
   "source": [
    "rank_df <- data.frame(Name = standardabweichungen_df$name, Variabilitaetsscore = standardabweichungen_df$Variabilitaetsscore)\n",
    "\n",
    "# Sortiere den DataFrame für eine bessere Visualisierung\n",
    "rank_df <- rank_df[order(rank_df$Variabilitaetsscore, decreasing = TRUE), ]\n",
    "\n",
    "# Erstelle ein Balkendiagramm\n",
    "library(ggplot2)\n",
    "\n",
    "png_name <- paste(\"plots/rank/\", \"rank.png\", sep = \"\")\n",
    "png(png_name, width=800, height=400)\n",
    "\n",
    "ggplot(rank_df, aes(x = reorder(Name, Variabilitaetsscore), y = Variabilitaetsscore, fill = Name)) +\n",
    "  geom_bar(stat = \"identity\") +\n",
    "  theme_minimal(base_size = 16) +\n",
    "  labs(x = \"\", y = \"Variabilitätsscore\") +\n",
    "  theme(axis.text.x = element_text(angle = 45, hjust = 1))\n",
    "\n",
    "dev.off()"
   ]
  }
 ],
 "metadata": {
  "kernelspec": {
   "display_name": "R",
   "language": "R",
   "name": "ir"
  },
  "language_info": {
   "codemirror_mode": "r",
   "file_extension": ".r",
   "mimetype": "text/x-r-source",
   "name": "R",
   "pygments_lexer": "r",
   "version": "4.1.2"
  }
 },
 "nbformat": 4,
 "nbformat_minor": 2
}
