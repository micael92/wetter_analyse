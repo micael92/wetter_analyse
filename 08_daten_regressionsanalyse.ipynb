{
 "cells": [
  {
   "cell_type": "code",
   "execution_count": 17,
   "metadata": {
    "vscode": {
     "languageId": "r"
    }
   },
   "outputs": [],
   "source": [
    "# Daten einlesen\n",
    "wetterdaten <- readRDS(\"datasets/rds/wetterdaten.rds\")\n",
    "\n",
    "# Ort für die Analyse festlegen\n",
    "norderney <- wetterdaten[[6]]"
   ]
  },
  {
   "cell_type": "code",
   "execution_count": 19,
   "metadata": {
    "vscode": {
     "languageId": "r"
    }
   },
   "outputs": [
    {
     "data": {
      "text/html": [
       "<table class=\"dataframe\">\n",
       "<caption>A data.frame: 6 × 6</caption>\n",
       "<thead>\n",
       "\t<tr><th></th><th scope=col>STATIONS_ID</th><th scope=col>MESS_DATUM</th><th scope=col>RSK</th><th scope=col>SDK</th><th scope=col>TMK</th><th scope=col>Zeitindex</th></tr>\n",
       "\t<tr><th></th><th scope=col>&lt;int&gt;</th><th scope=col>&lt;date&gt;</th><th scope=col>&lt;dbl&gt;</th><th scope=col>&lt;dbl&gt;</th><th scope=col>&lt;dbl&gt;</th><th scope=col>&lt;dbl&gt;</th></tr>\n",
       "</thead>\n",
       "<tbody>\n",
       "\t<tr><th scope=row>46346</th><td>3631</td><td>2014-01-01</td><td>0.2</td><td>3.6</td><td>5.8</td><td>0</td></tr>\n",
       "\t<tr><th scope=row>46347</th><td>3631</td><td>2014-01-02</td><td>0.5</td><td>0.5</td><td>7.9</td><td>1</td></tr>\n",
       "\t<tr><th scope=row>46348</th><td>3631</td><td>2014-01-03</td><td>2.4</td><td>0.0</td><td>7.2</td><td>2</td></tr>\n",
       "\t<tr><th scope=row>46349</th><td>3631</td><td>2014-01-04</td><td>1.3</td><td>3.0</td><td>6.8</td><td>3</td></tr>\n",
       "\t<tr><th scope=row>46350</th><td>3631</td><td>2014-01-05</td><td>0.4</td><td>5.0</td><td>5.7</td><td>4</td></tr>\n",
       "\t<tr><th scope=row>46351</th><td>3631</td><td>2014-01-06</td><td>5.0</td><td>0.4</td><td>8.1</td><td>5</td></tr>\n",
       "</tbody>\n",
       "</table>\n"
      ],
      "text/latex": [
       "A data.frame: 6 × 6\n",
       "\\begin{tabular}{r|llllll}\n",
       "  & STATIONS\\_ID & MESS\\_DATUM & RSK & SDK & TMK & Zeitindex\\\\\n",
       "  & <int> & <date> & <dbl> & <dbl> & <dbl> & <dbl>\\\\\n",
       "\\hline\n",
       "\t46346 & 3631 & 2014-01-01 & 0.2 & 3.6 & 5.8 & 0\\\\\n",
       "\t46347 & 3631 & 2014-01-02 & 0.5 & 0.5 & 7.9 & 1\\\\\n",
       "\t46348 & 3631 & 2014-01-03 & 2.4 & 0.0 & 7.2 & 2\\\\\n",
       "\t46349 & 3631 & 2014-01-04 & 1.3 & 3.0 & 6.8 & 3\\\\\n",
       "\t46350 & 3631 & 2014-01-05 & 0.4 & 5.0 & 5.7 & 4\\\\\n",
       "\t46351 & 3631 & 2014-01-06 & 5.0 & 0.4 & 8.1 & 5\\\\\n",
       "\\end{tabular}\n"
      ],
      "text/markdown": [
       "\n",
       "A data.frame: 6 × 6\n",
       "\n",
       "| <!--/--> | STATIONS_ID &lt;int&gt; | MESS_DATUM &lt;date&gt; | RSK &lt;dbl&gt; | SDK &lt;dbl&gt; | TMK &lt;dbl&gt; | Zeitindex &lt;dbl&gt; |\n",
       "|---|---|---|---|---|---|---|\n",
       "| 46346 | 3631 | 2014-01-01 | 0.2 | 3.6 | 5.8 | 0 |\n",
       "| 46347 | 3631 | 2014-01-02 | 0.5 | 0.5 | 7.9 | 1 |\n",
       "| 46348 | 3631 | 2014-01-03 | 2.4 | 0.0 | 7.2 | 2 |\n",
       "| 46349 | 3631 | 2014-01-04 | 1.3 | 3.0 | 6.8 | 3 |\n",
       "| 46350 | 3631 | 2014-01-05 | 0.4 | 5.0 | 5.7 | 4 |\n",
       "| 46351 | 3631 | 2014-01-06 | 5.0 | 0.4 | 8.1 | 5 |\n",
       "\n"
      ],
      "text/plain": [
       "      STATIONS_ID MESS_DATUM RSK SDK TMK Zeitindex\n",
       "46346 3631        2014-01-01 0.2 3.6 5.8 0        \n",
       "46347 3631        2014-01-02 0.5 0.5 7.9 1        \n",
       "46348 3631        2014-01-03 2.4 0.0 7.2 2        \n",
       "46349 3631        2014-01-04 1.3 3.0 6.8 3        \n",
       "46350 3631        2014-01-05 0.4 5.0 5.7 4        \n",
       "46351 3631        2014-01-06 5.0 0.4 8.1 5        "
      ]
     },
     "metadata": {},
     "output_type": "display_data"
    },
    {
     "data": {
      "text/html": [
       "<table class=\"dataframe\">\n",
       "<caption>A data.frame: 6 × 4</caption>\n",
       "<thead>\n",
       "\t<tr><th></th><th scope=col>RSK</th><th scope=col>SDK</th><th scope=col>TMK</th><th scope=col>Zeitindex</th></tr>\n",
       "\t<tr><th></th><th scope=col>&lt;dbl&gt;</th><th scope=col>&lt;dbl&gt;</th><th scope=col>&lt;dbl&gt;</th><th scope=col>&lt;dbl&gt;</th></tr>\n",
       "</thead>\n",
       "<tbody>\n",
       "\t<tr><th scope=row>46346</th><td>0.2</td><td>3.6</td><td>5.8</td><td>0</td></tr>\n",
       "\t<tr><th scope=row>46347</th><td>0.5</td><td>0.5</td><td>7.9</td><td>1</td></tr>\n",
       "\t<tr><th scope=row>46348</th><td>2.4</td><td>0.0</td><td>7.2</td><td>2</td></tr>\n",
       "\t<tr><th scope=row>46349</th><td>1.3</td><td>3.0</td><td>6.8</td><td>3</td></tr>\n",
       "\t<tr><th scope=row>46350</th><td>0.4</td><td>5.0</td><td>5.7</td><td>4</td></tr>\n",
       "\t<tr><th scope=row>46351</th><td>5.0</td><td>0.4</td><td>8.1</td><td>5</td></tr>\n",
       "</tbody>\n",
       "</table>\n"
      ],
      "text/latex": [
       "A data.frame: 6 × 4\n",
       "\\begin{tabular}{r|llll}\n",
       "  & RSK & SDK & TMK & Zeitindex\\\\\n",
       "  & <dbl> & <dbl> & <dbl> & <dbl>\\\\\n",
       "\\hline\n",
       "\t46346 & 0.2 & 3.6 & 5.8 & 0\\\\\n",
       "\t46347 & 0.5 & 0.5 & 7.9 & 1\\\\\n",
       "\t46348 & 2.4 & 0.0 & 7.2 & 2\\\\\n",
       "\t46349 & 1.3 & 3.0 & 6.8 & 3\\\\\n",
       "\t46350 & 0.4 & 5.0 & 5.7 & 4\\\\\n",
       "\t46351 & 5.0 & 0.4 & 8.1 & 5\\\\\n",
       "\\end{tabular}\n"
      ],
      "text/markdown": [
       "\n",
       "A data.frame: 6 × 4\n",
       "\n",
       "| <!--/--> | RSK &lt;dbl&gt; | SDK &lt;dbl&gt; | TMK &lt;dbl&gt; | Zeitindex &lt;dbl&gt; |\n",
       "|---|---|---|---|---|\n",
       "| 46346 | 0.2 | 3.6 | 5.8 | 0 |\n",
       "| 46347 | 0.5 | 0.5 | 7.9 | 1 |\n",
       "| 46348 | 2.4 | 0.0 | 7.2 | 2 |\n",
       "| 46349 | 1.3 | 3.0 | 6.8 | 3 |\n",
       "| 46350 | 0.4 | 5.0 | 5.7 | 4 |\n",
       "| 46351 | 5.0 | 0.4 | 8.1 | 5 |\n",
       "\n"
      ],
      "text/plain": [
       "      RSK SDK TMK Zeitindex\n",
       "46346 0.2 3.6 5.8 0        \n",
       "46347 0.5 0.5 7.9 1        \n",
       "46348 2.4 0.0 7.2 2        \n",
       "46349 1.3 3.0 6.8 3        \n",
       "46350 0.4 5.0 5.7 4        \n",
       "46351 5.0 0.4 8.1 5        "
      ]
     },
     "metadata": {},
     "output_type": "display_data"
    }
   ],
   "source": [
    "# Zeitindex als unabhängige Variable hinzufügen, weil Datum als unabhängige Variable nicht funktioniert, weil es nicht numerisch ist\n",
    "norderney$Zeitindex <- as.numeric(norderney$MESS_DATUM - min(norderney$MESS_DATUM))\n",
    "head(norderney)\n",
    "\n",
    "# Unnötige Spalten entfernen, damit cor() auf dataframe angewendet werden kann\n",
    "norderney$MESS_DATUM <- NULL\n",
    "norderney$STATIONS_ID <- NULL\n",
    "head(norderney)"
   ]
  },
  {
   "cell_type": "code",
   "execution_count": 88,
   "metadata": {
    "vscode": {
     "languageId": "r"
    }
   },
   "outputs": [
    {
     "data": {
      "text/html": [
       "<table class=\"dataframe\">\n",
       "<caption>A matrix: 4 × 4 of type dbl</caption>\n",
       "<thead>\n",
       "\t<tr><th></th><th scope=col>RSK</th><th scope=col>SDK</th><th scope=col>TMK</th><th scope=col>Zeitindex</th></tr>\n",
       "</thead>\n",
       "<tbody>\n",
       "\t<tr><th scope=row>RSK</th><td> 1.00000000</td><td>-0.26749939</td><td>0.04600520</td><td>0.02976479</td></tr>\n",
       "\t<tr><th scope=row>SDK</th><td>-0.26749939</td><td> 1.00000000</td><td>0.43409277</td><td>0.01660079</td></tr>\n",
       "\t<tr><th scope=row>TMK</th><td> 0.04600520</td><td> 0.43409277</td><td>1.00000000</td><td>0.04970893</td></tr>\n",
       "\t<tr><th scope=row>Zeitindex</th><td> 0.02976479</td><td> 0.01660079</td><td>0.04970893</td><td>1.00000000</td></tr>\n",
       "</tbody>\n",
       "</table>\n"
      ],
      "text/latex": [
       "A matrix: 4 × 4 of type dbl\n",
       "\\begin{tabular}{r|llll}\n",
       "  & RSK & SDK & TMK & Zeitindex\\\\\n",
       "\\hline\n",
       "\tRSK &  1.00000000 & -0.26749939 & 0.04600520 & 0.02976479\\\\\n",
       "\tSDK & -0.26749939 &  1.00000000 & 0.43409277 & 0.01660079\\\\\n",
       "\tTMK &  0.04600520 &  0.43409277 & 1.00000000 & 0.04970893\\\\\n",
       "\tZeitindex &  0.02976479 &  0.01660079 & 0.04970893 & 1.00000000\\\\\n",
       "\\end{tabular}\n"
      ],
      "text/markdown": [
       "\n",
       "A matrix: 4 × 4 of type dbl\n",
       "\n",
       "| <!--/--> | RSK | SDK | TMK | Zeitindex |\n",
       "|---|---|---|---|---|\n",
       "| RSK |  1.00000000 | -0.26749939 | 0.04600520 | 0.02976479 |\n",
       "| SDK | -0.26749939 |  1.00000000 | 0.43409277 | 0.01660079 |\n",
       "| TMK |  0.04600520 |  0.43409277 | 1.00000000 | 0.04970893 |\n",
       "| Zeitindex |  0.02976479 |  0.01660079 | 0.04970893 | 1.00000000 |\n",
       "\n"
      ],
      "text/plain": [
       "          RSK         SDK         TMK        Zeitindex \n",
       "RSK        1.00000000 -0.26749939 0.04600520 0.02976479\n",
       "SDK       -0.26749939  1.00000000 0.43409277 0.01660079\n",
       "TMK        0.04600520  0.43409277 1.00000000 0.04970893\n",
       "Zeitindex  0.02976479  0.01660079 0.04970893 1.00000000"
      ]
     },
     "metadata": {},
     "output_type": "display_data"
    },
    {
     "data": {
      "text/plain": [
       "\n",
       "\tPearson's product-moment correlation\n",
       "\n",
       "data:  norderney$Zeitindex and norderney$TMK\n",
       "t = 3.0003, df = 3634, p-value = 0.002715\n",
       "alternative hypothesis: true correlation is not equal to 0\n",
       "95 percent confidence interval:\n",
       " 0.01723086 0.08208221\n",
       "sample estimates:\n",
       "       cor \n",
       "0.04970893 \n"
      ]
     },
     "metadata": {},
     "output_type": "display_data"
    }
   ],
   "source": [
    "# Regressionsanalyse beginnt immer mit Korrelationsanalyse\n",
    "cor(norderney)\n",
    "cor.test(norderney$Zeitindex, norderney$TMK, conf.level = 0.95)"
   ]
  },
  {
   "cell_type": "code",
   "execution_count": 85,
   "metadata": {
    "vscode": {
     "languageId": "r"
    }
   },
   "outputs": [
    {
     "data": {
      "text/html": [
       "<strong>png:</strong> 2"
      ],
      "text/latex": [
       "\\textbf{png:} 2"
      ],
      "text/markdown": [
       "**png:** 2"
      ],
      "text/plain": [
       "png \n",
       "  2 "
      ]
     },
     "metadata": {},
     "output_type": "display_data"
    }
   ],
   "source": [
    "# Heatmap für TMK und Zeitindex \n",
    "\n",
    "# Pakete installieren und laden\n",
    "if (!require(RColorBrewer, quietly = TRUE)) {\n",
    "  install.packages(\"RColorBrewer\")\n",
    "}\n",
    "if (!require(MASS, quietly = TRUE)) {\n",
    "  install.packages(\"MASS\")\n",
    "}\n",
    "library(RColorBrewer)\n",
    "library(MASS)\n",
    "\n",
    "# Funktion für Heatmap\n",
    "heatmap <- function(df_to_plot, file_path) {\n",
    "\n",
    "    # PNG\n",
    "    png(file_path, width=800, height=300)\n",
    "\n",
    "    # Farbpallette für Darstellung\n",
    "    rf <- colorRampPalette(rev(brewer.pal(11, \"Spectral\")))\n",
    "    r <- rf(32)\n",
    "\n",
    "    # Plot erzeugen\n",
    "    h2 <- hist(df_to_plot[,2], breaks=25, plot=FALSE)\n",
    "    k <- kde2d(df_to_plot[,1], df_to_plot[,2], n=25)\n",
    "    y_label <- \"TMK\"\n",
    "    x_label <- \"Zeitindex\"\n",
    "    cex = 1.5\n",
    "\n",
    "    par(mar = c(6,6,1,1), cex.axis = cex)\n",
    "    layout(matrix(c(1,2), 1, 2, byrow = TRUE), widths = c(5,1) , heights = c(1,3))\n",
    "    image(k, col = r)\n",
    "    mtext(side = 1, line = 3, x_label, cex = cex)\n",
    "    mtext(side = 2, line = 3, y_label, cex = cex)\n",
    "\n",
    "    # Barplot rechts\n",
    "    par(mar = c(5.2,0,0.2,1))\n",
    "    barplot(h2$counts, axes=FALSE, xlim=c(0, max(h2$counts)), space=0, col=\"red\", horiz=TRUE)\n",
    "\n",
    "    dev.off()\n",
    "}\n",
    "\n",
    "# TMK Dataframe erzeugen\n",
    "df_tmk <- data.frame(norderney$TMK, norderney$Zeitindex)\n",
    "\n",
    "# TMK Heatmap erzeugen\n",
    "heatmap(df_TMK, \"plots/linear_regression/heatmap_TMK.png\" )\n"
   ]
  }
 ],
 "metadata": {
  "kernelspec": {
   "display_name": "R",
   "language": "R",
   "name": "ir"
  },
  "language_info": {
   "codemirror_mode": "r",
   "file_extension": ".r",
   "mimetype": "text/x-r-source",
   "name": "R",
   "pygments_lexer": "r",
   "version": "4.1.2"
  }
 },
 "nbformat": 4,
 "nbformat_minor": 2
}
