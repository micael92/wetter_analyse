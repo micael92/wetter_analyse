{
 "cells": [
  {
   "cell_type": "markdown",
   "metadata": {},
   "source": [
    "### Wetterdaten für die gewählten Stationen einlesen und bereinigen\n",
    "\n",
    "- Pfade für die einzelnen Wetterdateien aus der von 04_daten_herunterladen erzeugten Datei datei_liste.txt einlesen\n",
    "- Die 10 Dateien mit Wetterdaten einlesen\n",
    "- Nicht relevante Spalten entfernen\n",
    "- Datentyp für Spalten anpassen\n",
    "- Daten auf den Zeitraum von 2014-2024 reduzieren\n",
    "- Fehlerhafte Daten entfernen"
   ]
  },
  {
   "cell_type": "code",
   "execution_count": 1,
   "metadata": {
    "vscode": {
     "languageId": "r"
    }
   },
   "outputs": [],
   "source": [
    "# Datei datei_liste.txt einlesen\n",
    "datei_liste <- readLines(\"datasets/orte/datei_liste.txt\")\n",
    "\n",
    "# Liste, um die Inhalte der Dateien zu speichern\n",
    "wetterdaten <- list()\n",
    "\n",
    "# Jede Datei aus der Liste einlesen\n",
    "for (i in seq_along(datei_liste)) {\n",
    "\n",
    "  # Der Pfad zur Datei\n",
    "  dateipfad <- datei_liste[i]\n",
    "  \n",
    "  # Datei einlesen\n",
    "  wetterdaten[[i]] <- read.table(dateipfad, \n",
    "    header = TRUE, \n",
    "    sep = \";\", \n",
    "    fill = TRUE, \n",
    "    fileEncoding = \"UTF-8\")\n",
    "  \n",
    "  # Benenne das dataframe in der Liste nach der Stations ID\n",
    "  name <- paste(\"station\", wetterdaten[[i]]$STATIONS_ID[1], sep = \"_\")\n",
    "  names(wetterdaten)[i] <- name\n",
    "\n",
    "  # Nur relevante Spalten behalten\n",
    "  wetterdaten[[i]] <- wetterdaten[[i]][, c(\"STATIONS_ID\", \"MESS_DATUM\", \"RSK\", \"SDK\", \"TMK\")]\n",
    "\n",
    "  # Datentypen anpassen\n",
    "  wetterdaten[[i]]$MESS_DATUM <- as.Date(as.character(wetterdaten[[i]]$MESS_DATUM), format = \"%Y%m%d\")\n",
    "\n",
    "  # Nur die letzten 10 Jahre behalten\n",
    "  wetterdaten[[i]] <- tail(wetterdaten[[i]], 3652)\n",
    "  \n",
    "}"
   ]
  },
  {
   "cell_type": "code",
   "execution_count": null,
   "metadata": {
    "vscode": {
     "languageId": "r"
    }
   },
   "outputs": [],
   "source": [
    "# Entfernen von fehlerhaften Daten\n",
    "\n",
    "for (i in seq_along(wetterdaten)) {\n",
    "  wetterdaten[[i]] <- subset(wetterdaten[[i]], RSK <= 400.0 & RSK >= 0.0)\n",
    "  wetterdaten[[i]] <- subset(wetterdaten[[i]], SDK <= 24 & SDK >= 0)\n",
    "  wetterdaten[[i]] <- subset(wetterdaten[[i]], TMK <= 60 & TMK >= -60)\n",
    "}"
   ]
  },
  {
   "cell_type": "code",
   "execution_count": null,
   "metadata": {
    "vscode": {
     "languageId": "r"
    }
   },
   "outputs": [],
   "source": [
    "# Die bereinigten Datensätze für die weitere Verwendung speichern\n",
    "\n",
    "saveRDS(wetterdaten, \"datasets/rds/wetterdaten.rds\")"
   ]
  }
 ],
 "metadata": {
  "kernelspec": {
   "display_name": "R",
   "language": "R",
   "name": "ir"
  },
  "language_info": {
   "codemirror_mode": "r",
   "file_extension": ".r",
   "mimetype": "text/x-r-source",
   "name": "R",
   "pygments_lexer": "r",
   "version": "4.1.2"
  }
 },
 "nbformat": 4,
 "nbformat_minor": 2
}
