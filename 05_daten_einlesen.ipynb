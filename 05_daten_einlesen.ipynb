{
 "cells": [
  {
   "cell_type": "markdown",
   "metadata": {},
   "source": [
    "### Wetterdaten für die gewählten Stationen einlesen und verarbeiten\n",
    "\n",
    "- Pfade für die einzelnen Wetterdateien aus der von 04_daten_herunterladen erzeugten Datei datei_liste.txt einlesen\n",
    "- Die 10 Dateien mit Wetterdaten einlesen\n",
    "- Nicht relevante Spalten entfernen\n",
    "- Datentyp für Spalten anpassen\n",
    "- Daten auf den Zeitraum von 2014-2024 reduzieren\n",
    "- Fehlerhafte Daten entfernen\n",
    "- Daten der letzten 3 Jahre darstellen"
   ]
  },
  {
   "cell_type": "code",
   "execution_count": 66,
   "metadata": {
    "vscode": {
     "languageId": "r"
    }
   },
   "outputs": [],
   "source": [
    "# Datei datei_liste.txt einlesen\n",
    "datei_liste <- readLines(\"datasets/orte/datei_liste.txt\")\n",
    "\n",
    "# Liste, um die Inhalte der Dateien zu speichern\n",
    "wetterdaten <- list()\n",
    "\n",
    "# Jede Datei aus der Liste einlesen\n",
    "for (i in seq_along(datei_liste)) {\n",
    "  # Der Pfad zur Datei\n",
    "  dateipfad <- datei_liste[i]\n",
    "  \n",
    "  # Datei einlesen\n",
    "  wetterdaten[[i]] <- read.table(dateipfad, \n",
    "    header = TRUE, \n",
    "    sep = \";\", \n",
    "    fill = TRUE, \n",
    "    fileEncoding = \"UTF-8\")\n",
    "  \n",
    "  # Benenne das dataframe in der Liste nach der Stations ID\n",
    "  name <- paste(\"station\", wetterdaten[[i]]$STATIONS_ID[1], sep = \"_\")\n",
    "  names(wetterdaten)[i] <- name\n",
    "  # Nur relevante Spalten behalten\n",
    "  wetterdaten[[i]] <- wetterdaten[[i]][, c(\"STATIONS_ID\", \"MESS_DATUM\", \"RSK\", \"SDK\", \"TMK\")]\n",
    "\n",
    "  # Datentypen anpassen\n",
    "  wetterdaten[[i]]$MESS_DATUM <- as.Date(as.character(wetterdaten[[i]]$MESS_DATUM), format = \"%Y%m%d\")\n",
    "\n",
    "  # Nur die letzten 10 Jahre behalten\n",
    "  wetterdaten[[i]] <- tail(wetterdaten[[i]], 3652)\n",
    "\n",
    "}\n"
   ]
  },
  {
   "cell_type": "code",
   "execution_count": 67,
   "metadata": {
    "vscode": {
     "languageId": "r"
    }
   },
   "outputs": [],
   "source": [
    "# Entfernen von fehlerhaften Daten\n",
    "\n",
    "for (i in seq_along(wetterdaten)) {\n",
    "  wetterdaten[[i]] <- subset(wetterdaten[[i]], RSK <= 400.0 & RSK >= 0.0)\n",
    "  wetterdaten[[i]] <- subset(wetterdaten[[i]], SDK <= 24 & SDK >= 0)\n",
    "  wetterdaten[[i]] <- subset(wetterdaten[[i]], TMK <= 60 & TMK >= -60)\n",
    "}"
   ]
  },
  {
   "cell_type": "code",
   "execution_count": 81,
   "metadata": {
    "vscode": {
     "languageId": "r"
    }
   },
   "outputs": [
    {
     "name": "stdout",
     "output_type": "stream",
     "text": [
      "[1] \"Anzahl der Zeilen station_856 :  3634\"\n",
      "[1] \"Anzahl der Zeilen station_891 :  3631\"\n",
      "[1] \"Anzahl der Zeilen station_1346 :  3474\"\n",
      "[1] \"Anzahl der Zeilen station_2290 :  3652\"\n",
      "[1] \"Anzahl der Zeilen station_2712 :  3564\"\n",
      "[1] \"Anzahl der Zeilen station_3631 :  3636\"\n",
      "[1] \"Anzahl der Zeilen station_3730 :  3648\"\n",
      "[1] \"Anzahl der Zeilen station_3987 :  3652\"\n",
      "[1] \"Anzahl der Zeilen station_4271 :  3609\"\n",
      "[1] \"Anzahl der Zeilen station_4625 :  3424\"\n"
     ]
    }
   ],
   "source": [
    "# Verschiedene Informationen zu den Dateien\n",
    "# durch entfernen der Kommentarzeichen können die einzelnen Informationen ausgegeben werden\n",
    "\n",
    "for (i in seq_along(wetterdaten)) {\n",
    "  print(paste(\"Anzahl der Zeilen\", names(wetterdaten[i]), \": \", nrow(wetterdaten[[i]])))\n",
    "  #print(summary(wetterdaten[[i]]))\n",
    "  #print(head(wetterdaten[[1]]))\n",
    "  #print(nrow(wetterdaten[[1]]))\n",
    "  #boxplot(wetterdaten[[i]]$TMK, main = names(wetterdaten)[i])\n",
    "  #print(subset(wetterdaten[[i]], RSK > 400.0 | RSK < 0.0))\n",
    "  #print(subset(wetterdaten[[i]], SDK > 24 | SDK < 0))\n",
    "  #print(subset(wetterdaten[[i]], TMK > 60 | TMK < -60))\n",
    "  #plot(wetterdaten[[i]]$MESS_DATUM, wetterdaten[[i]]$TMK, type = \"l\", col = \"blue\", xlab = \"Datum\", ylab = \"Temperatur\", main = names(wetterdaten)[i])\n",
    "  #break\n",
    "}"
   ]
  },
  {
   "cell_type": "code",
   "execution_count": 87,
   "metadata": {
    "vscode": {
     "languageId": "r"
    }
   },
   "outputs": [
    {
     "data": {
      "text/html": [
       "<strong>png:</strong> 2"
      ],
      "text/latex": [
       "\\textbf{png:} 2"
      ],
      "text/markdown": [
       "**png:** 2"
      ],
      "text/plain": [
       "png \n",
       "  2 "
      ]
     },
     "metadata": {},
     "output_type": "display_data"
    }
   ],
   "source": [
    "png(\"plot.png\", width=1280, height=720)\n",
    "plot(1:10, rnorm(10), main=\"Beispielplot\")\n",
    "dev.off()"
   ]
  },
  {
   "cell_type": "code",
   "execution_count": 91,
   "metadata": {
    "vscode": {
     "languageId": "r"
    }
   },
   "outputs": [],
   "source": [
    "for (i in seq_along(wetterdaten)) {\n",
    "  start_datum <- as.Date(\"2021-01-01\")\n",
    "  end_datum <- as.Date(\"2023-12-31\")\n",
    "  daten_letzten_3_jahre <- subset(wetterdaten[[i]], MESS_DATUM >= start_datum & MESS_DATUM <= end_datum)\n",
    "  png_name <- paste(\"plots/\", names(wetterdaten)[i], \".png\", sep = \"\")\n",
    "  png(png_name, width=800, height=400)\n",
    "  plot(daten_letzten_3_jahre$MESS_DATUM, daten_letzten_3_jahre$TMK, type = \"l\", col = \"blue\", xlab = \"Datum\", ylab = \"Temperatur\", main = names(wetterdaten)[i])\n",
    "  dev.off()\n",
    "  \n",
    "}"
   ]
  },
  {
   "cell_type": "markdown",
   "metadata": {},
   "source": [
    "# HIER MORGEN AUCH NOCH DIE ANDEREN PARAMETER PLOTTEN\n",
    "# UND GUCKEN WAS JETZT ALLES IN DEN TEXT REIN SOLL"
   ]
  }
 ],
 "metadata": {
  "kernelspec": {
   "display_name": "R",
   "language": "R",
   "name": "ir"
  },
  "language_info": {
   "codemirror_mode": "r",
   "file_extension": ".r",
   "mimetype": "text/x-r-source",
   "name": "R",
   "pygments_lexer": "r",
   "version": "4.1.2"
  }
 },
 "nbformat": 4,
 "nbformat_minor": 2
}
